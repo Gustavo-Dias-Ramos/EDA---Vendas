{
 "cells": [
  {
   "cell_type": "markdown",
   "id": "85c0dade-2dca-43ec-b462-e239f7d950d5",
   "metadata": {},
   "source": [
    "## Importações iniciais"
   ]
  },
  {
   "cell_type": "code",
   "execution_count": 1,
   "id": "b1ddecb8-71ef-4bc6-9670-4be68cded69a",
   "metadata": {},
   "outputs": [],
   "source": [
    "import pandas as pd\n",
    "import os\n",
    "import matplotlib.pyplot as plt\n",
    "import seaborn as sns\n",
    "\n",
    "from collections import Counter\n",
    "from itertools import combinations\n",
    "\n",
    "%matplotlib inline"
   ]
  },
  {
   "cell_type": "markdown",
   "id": "6da5b17a-62cc-4f17-ac0a-9d723b1430f7",
   "metadata": {},
   "source": [
    "## Tarefa 01 - Juntar os arquivos de Vendas\n",
    "Os arquivos do dataset englobam doze meses de vendas e estão separados em arquivos .csv"
   ]
  },
  {
   "cell_type": "code",
   "execution_count": 2,
   "id": "fcc9b3a1-d5ab-48fa-bfaf-6e71f9be7fc7",
   "metadata": {},
   "outputs": [],
   "source": [
    "#Os arquivos de vendas estão separados por mês\n",
    "df = pd.read_csv('Sales_Data\\Sales_August_2019.csv')"
   ]
  },
  {
   "cell_type": "code",
   "execution_count": 3,
   "id": "43cafcab-fd13-4eca-98c3-c7deb8126e53",
   "metadata": {},
   "outputs": [
    {
     "data": {
      "text/html": [
       "<div>\n",
       "<style scoped>\n",
       "    .dataframe tbody tr th:only-of-type {\n",
       "        vertical-align: middle;\n",
       "    }\n",
       "\n",
       "    .dataframe tbody tr th {\n",
       "        vertical-align: top;\n",
       "    }\n",
       "\n",
       "    .dataframe thead th {\n",
       "        text-align: right;\n",
       "    }\n",
       "</style>\n",
       "<table border=\"1\" class=\"dataframe\">\n",
       "  <thead>\n",
       "    <tr style=\"text-align: right;\">\n",
       "      <th></th>\n",
       "      <th>Order ID</th>\n",
       "      <th>Product</th>\n",
       "      <th>Quantity Ordered</th>\n",
       "      <th>Price Each</th>\n",
       "      <th>Order Date</th>\n",
       "      <th>Purchase Address</th>\n",
       "    </tr>\n",
       "  </thead>\n",
       "  <tbody>\n",
       "    <tr>\n",
       "      <th>0</th>\n",
       "      <td>236670</td>\n",
       "      <td>Wired Headphones</td>\n",
       "      <td>2</td>\n",
       "      <td>11.99</td>\n",
       "      <td>08/31/19 22:21</td>\n",
       "      <td>359 Spruce St, Seattle, WA 98101</td>\n",
       "    </tr>\n",
       "    <tr>\n",
       "      <th>1</th>\n",
       "      <td>236671</td>\n",
       "      <td>Bose SoundSport Headphones</td>\n",
       "      <td>1</td>\n",
       "      <td>99.99</td>\n",
       "      <td>08/15/19 15:11</td>\n",
       "      <td>492 Ridge St, Dallas, TX 75001</td>\n",
       "    </tr>\n",
       "    <tr>\n",
       "      <th>2</th>\n",
       "      <td>236672</td>\n",
       "      <td>iPhone</td>\n",
       "      <td>1</td>\n",
       "      <td>700.0</td>\n",
       "      <td>08/06/19 14:40</td>\n",
       "      <td>149 7th St, Portland, OR 97035</td>\n",
       "    </tr>\n",
       "    <tr>\n",
       "      <th>3</th>\n",
       "      <td>236673</td>\n",
       "      <td>AA Batteries (4-pack)</td>\n",
       "      <td>2</td>\n",
       "      <td>3.84</td>\n",
       "      <td>08/29/19 20:59</td>\n",
       "      <td>631 2nd St, Los Angeles, CA 90001</td>\n",
       "    </tr>\n",
       "    <tr>\n",
       "      <th>4</th>\n",
       "      <td>236674</td>\n",
       "      <td>AA Batteries (4-pack)</td>\n",
       "      <td>2</td>\n",
       "      <td>3.84</td>\n",
       "      <td>08/15/19 19:53</td>\n",
       "      <td>736 14th St, New York City, NY 10001</td>\n",
       "    </tr>\n",
       "    <tr>\n",
       "      <th>...</th>\n",
       "      <td>...</td>\n",
       "      <td>...</td>\n",
       "      <td>...</td>\n",
       "      <td>...</td>\n",
       "      <td>...</td>\n",
       "      <td>...</td>\n",
       "    </tr>\n",
       "    <tr>\n",
       "      <th>12006</th>\n",
       "      <td>248146</td>\n",
       "      <td>Bose SoundSport Headphones</td>\n",
       "      <td>1</td>\n",
       "      <td>99.99</td>\n",
       "      <td>08/29/19 22:19</td>\n",
       "      <td>868 Hickory St, San Francisco, CA 94016</td>\n",
       "    </tr>\n",
       "    <tr>\n",
       "      <th>12007</th>\n",
       "      <td>248147</td>\n",
       "      <td>AAA Batteries (4-pack)</td>\n",
       "      <td>3</td>\n",
       "      <td>2.99</td>\n",
       "      <td>08/31/19 16:26</td>\n",
       "      <td>206 Lakeview St, Boston, MA 02215</td>\n",
       "    </tr>\n",
       "    <tr>\n",
       "      <th>12008</th>\n",
       "      <td>248148</td>\n",
       "      <td>AA Batteries (4-pack)</td>\n",
       "      <td>1</td>\n",
       "      <td>3.84</td>\n",
       "      <td>08/02/19 07:25</td>\n",
       "      <td>568 13th St, Seattle, WA 98101</td>\n",
       "    </tr>\n",
       "    <tr>\n",
       "      <th>12009</th>\n",
       "      <td>248149</td>\n",
       "      <td>USB-C Charging Cable</td>\n",
       "      <td>1</td>\n",
       "      <td>11.95</td>\n",
       "      <td>08/08/19 12:10</td>\n",
       "      <td>495 Walnut St, San Francisco, CA 94016</td>\n",
       "    </tr>\n",
       "    <tr>\n",
       "      <th>12010</th>\n",
       "      <td>248150</td>\n",
       "      <td>AA Batteries (4-pack)</td>\n",
       "      <td>1</td>\n",
       "      <td>3.84</td>\n",
       "      <td>08/16/19 08:13</td>\n",
       "      <td>738 Park St, Los Angeles, CA 90001</td>\n",
       "    </tr>\n",
       "  </tbody>\n",
       "</table>\n",
       "<p>12011 rows × 6 columns</p>\n",
       "</div>"
      ],
      "text/plain": [
       "      Order ID                     Product Quantity Ordered Price Each  \\\n",
       "0       236670            Wired Headphones                2      11.99   \n",
       "1       236671  Bose SoundSport Headphones                1      99.99   \n",
       "2       236672                      iPhone                1      700.0   \n",
       "3       236673       AA Batteries (4-pack)                2       3.84   \n",
       "4       236674       AA Batteries (4-pack)                2       3.84   \n",
       "...        ...                         ...              ...        ...   \n",
       "12006   248146  Bose SoundSport Headphones                1      99.99   \n",
       "12007   248147      AAA Batteries (4-pack)                3       2.99   \n",
       "12008   248148       AA Batteries (4-pack)                1       3.84   \n",
       "12009   248149        USB-C Charging Cable                1      11.95   \n",
       "12010   248150       AA Batteries (4-pack)                1       3.84   \n",
       "\n",
       "           Order Date                         Purchase Address  \n",
       "0      08/31/19 22:21         359 Spruce St, Seattle, WA 98101  \n",
       "1      08/15/19 15:11           492 Ridge St, Dallas, TX 75001  \n",
       "2      08/06/19 14:40           149 7th St, Portland, OR 97035  \n",
       "3      08/29/19 20:59        631 2nd St, Los Angeles, CA 90001  \n",
       "4      08/15/19 19:53     736 14th St, New York City, NY 10001  \n",
       "...               ...                                      ...  \n",
       "12006  08/29/19 22:19  868 Hickory St, San Francisco, CA 94016  \n",
       "12007  08/31/19 16:26        206 Lakeview St, Boston, MA 02215  \n",
       "12008  08/02/19 07:25           568 13th St, Seattle, WA 98101  \n",
       "12009  08/08/19 12:10   495 Walnut St, San Francisco, CA 94016  \n",
       "12010  08/16/19 08:13       738 Park St, Los Angeles, CA 90001  \n",
       "\n",
       "[12011 rows x 6 columns]"
      ]
     },
     "execution_count": 3,
     "metadata": {},
     "output_type": "execute_result"
    }
   ],
   "source": [
    "#vendas do mes de Agosto\n",
    "df"
   ]
  },
  {
   "cell_type": "markdown",
   "id": "3a4aec67-0872-497b-92b5-497d861b2184",
   "metadata": {},
   "source": [
    "Assim, precisamos juntar todos os arquivos de vendas em um único DataFrame.\n",
    "Inicialmente, vamos criar uma variável (lista) com o nome de todos os arquivo .csv que queremos juntar"
   ]
  },
  {
   "cell_type": "code",
   "execution_count": 4,
   "id": "ba15deeb-55cd-44ff-b0cd-e66681438fc8",
   "metadata": {},
   "outputs": [],
   "source": [
    "#Criar uma arquivo com todos os nomes dos .csv da pasta trabalhada\n",
    "filepaths = [f for f in os.listdir(\"Sales_Data\") if f.endswith('.csv')]"
   ]
  },
  {
   "cell_type": "markdown",
   "id": "06ca76b3-39e7-4584-96b4-1115edd3db3d",
   "metadata": {},
   "source": [
    "Depois, vamos ler cada um desses aqruivos, colocar em uma lista e concatenar em um único DataFrame"
   ]
  },
  {
   "cell_type": "code",
   "execution_count": 5,
   "id": "389e7fd9-e6cd-4896-9e9e-105948f6fd9b",
   "metadata": {},
   "outputs": [],
   "source": [
    "#Ler e concatenar todos os df.\n",
    "flist = []                      #cria uma variável lista para armazenar os df.\n",
    "for filename in filepaths:      #faz a leitura de cada arquivo .csv\n",
    "    df_f = pd.read_csv(f'Sales_Data\\{filename}', index_col=False, header=0)\n",
    "    flist.append(df_f)          #acrescenta o arquivo à lista criada\n",
    "\n",
    "    \n",
    "df = pd.concat(flist, axis=0, ignore_index=False)   #concatena os arquivos da lista e um único dataframe"
   ]
  },
  {
   "cell_type": "code",
   "execution_count": 6,
   "id": "2704fded-0c6d-485c-82bd-4a7e60d24b01",
   "metadata": {},
   "outputs": [
    {
     "data": {
      "text/html": [
       "<div>\n",
       "<style scoped>\n",
       "    .dataframe tbody tr th:only-of-type {\n",
       "        vertical-align: middle;\n",
       "    }\n",
       "\n",
       "    .dataframe tbody tr th {\n",
       "        vertical-align: top;\n",
       "    }\n",
       "\n",
       "    .dataframe thead th {\n",
       "        text-align: right;\n",
       "    }\n",
       "</style>\n",
       "<table border=\"1\" class=\"dataframe\">\n",
       "  <thead>\n",
       "    <tr style=\"text-align: right;\">\n",
       "      <th></th>\n",
       "      <th>Order ID</th>\n",
       "      <th>Product</th>\n",
       "      <th>Quantity Ordered</th>\n",
       "      <th>Price Each</th>\n",
       "      <th>Order Date</th>\n",
       "      <th>Purchase Address</th>\n",
       "    </tr>\n",
       "  </thead>\n",
       "  <tbody>\n",
       "    <tr>\n",
       "      <th>0</th>\n",
       "      <td>176558</td>\n",
       "      <td>USB-C Charging Cable</td>\n",
       "      <td>2</td>\n",
       "      <td>11.95</td>\n",
       "      <td>04/19/19 08:46</td>\n",
       "      <td>917 1st St, Dallas, TX 75001</td>\n",
       "    </tr>\n",
       "    <tr>\n",
       "      <th>1</th>\n",
       "      <td>NaN</td>\n",
       "      <td>NaN</td>\n",
       "      <td>NaN</td>\n",
       "      <td>NaN</td>\n",
       "      <td>NaN</td>\n",
       "      <td>NaN</td>\n",
       "    </tr>\n",
       "    <tr>\n",
       "      <th>2</th>\n",
       "      <td>176559</td>\n",
       "      <td>Bose SoundSport Headphones</td>\n",
       "      <td>1</td>\n",
       "      <td>99.99</td>\n",
       "      <td>04/07/19 22:30</td>\n",
       "      <td>682 Chestnut St, Boston, MA 02215</td>\n",
       "    </tr>\n",
       "    <tr>\n",
       "      <th>3</th>\n",
       "      <td>176560</td>\n",
       "      <td>Google Phone</td>\n",
       "      <td>1</td>\n",
       "      <td>600</td>\n",
       "      <td>04/12/19 14:38</td>\n",
       "      <td>669 Spruce St, Los Angeles, CA 90001</td>\n",
       "    </tr>\n",
       "    <tr>\n",
       "      <th>4</th>\n",
       "      <td>176560</td>\n",
       "      <td>Wired Headphones</td>\n",
       "      <td>1</td>\n",
       "      <td>11.99</td>\n",
       "      <td>04/12/19 14:38</td>\n",
       "      <td>669 Spruce St, Los Angeles, CA 90001</td>\n",
       "    </tr>\n",
       "    <tr>\n",
       "      <th>...</th>\n",
       "      <td>...</td>\n",
       "      <td>...</td>\n",
       "      <td>...</td>\n",
       "      <td>...</td>\n",
       "      <td>...</td>\n",
       "      <td>...</td>\n",
       "    </tr>\n",
       "    <tr>\n",
       "      <th>11681</th>\n",
       "      <td>259353</td>\n",
       "      <td>AAA Batteries (4-pack)</td>\n",
       "      <td>3</td>\n",
       "      <td>2.99</td>\n",
       "      <td>09/17/19 20:56</td>\n",
       "      <td>840 Highland St, Los Angeles, CA 90001</td>\n",
       "    </tr>\n",
       "    <tr>\n",
       "      <th>11682</th>\n",
       "      <td>259354</td>\n",
       "      <td>iPhone</td>\n",
       "      <td>1</td>\n",
       "      <td>700</td>\n",
       "      <td>09/01/19 16:00</td>\n",
       "      <td>216 Dogwood St, San Francisco, CA 94016</td>\n",
       "    </tr>\n",
       "    <tr>\n",
       "      <th>11683</th>\n",
       "      <td>259355</td>\n",
       "      <td>iPhone</td>\n",
       "      <td>1</td>\n",
       "      <td>700</td>\n",
       "      <td>09/23/19 07:39</td>\n",
       "      <td>220 12th St, San Francisco, CA 94016</td>\n",
       "    </tr>\n",
       "    <tr>\n",
       "      <th>11684</th>\n",
       "      <td>259356</td>\n",
       "      <td>34in Ultrawide Monitor</td>\n",
       "      <td>1</td>\n",
       "      <td>379.99</td>\n",
       "      <td>09/19/19 17:30</td>\n",
       "      <td>511 Forest St, San Francisco, CA 94016</td>\n",
       "    </tr>\n",
       "    <tr>\n",
       "      <th>11685</th>\n",
       "      <td>259357</td>\n",
       "      <td>USB-C Charging Cable</td>\n",
       "      <td>1</td>\n",
       "      <td>11.95</td>\n",
       "      <td>09/30/19 00:18</td>\n",
       "      <td>250 Meadow St, San Francisco, CA 94016</td>\n",
       "    </tr>\n",
       "  </tbody>\n",
       "</table>\n",
       "<p>186850 rows × 6 columns</p>\n",
       "</div>"
      ],
      "text/plain": [
       "      Order ID                     Product Quantity Ordered Price Each  \\\n",
       "0       176558        USB-C Charging Cable                2      11.95   \n",
       "1          NaN                         NaN              NaN        NaN   \n",
       "2       176559  Bose SoundSport Headphones                1      99.99   \n",
       "3       176560                Google Phone                1        600   \n",
       "4       176560            Wired Headphones                1      11.99   \n",
       "...        ...                         ...              ...        ...   \n",
       "11681   259353      AAA Batteries (4-pack)                3       2.99   \n",
       "11682   259354                      iPhone                1        700   \n",
       "11683   259355                      iPhone                1        700   \n",
       "11684   259356      34in Ultrawide Monitor                1     379.99   \n",
       "11685   259357        USB-C Charging Cable                1      11.95   \n",
       "\n",
       "           Order Date                         Purchase Address  \n",
       "0      04/19/19 08:46             917 1st St, Dallas, TX 75001  \n",
       "1                 NaN                                      NaN  \n",
       "2      04/07/19 22:30        682 Chestnut St, Boston, MA 02215  \n",
       "3      04/12/19 14:38     669 Spruce St, Los Angeles, CA 90001  \n",
       "4      04/12/19 14:38     669 Spruce St, Los Angeles, CA 90001  \n",
       "...               ...                                      ...  \n",
       "11681  09/17/19 20:56   840 Highland St, Los Angeles, CA 90001  \n",
       "11682  09/01/19 16:00  216 Dogwood St, San Francisco, CA 94016  \n",
       "11683  09/23/19 07:39     220 12th St, San Francisco, CA 94016  \n",
       "11684  09/19/19 17:30   511 Forest St, San Francisco, CA 94016  \n",
       "11685  09/30/19 00:18   250 Meadow St, San Francisco, CA 94016  \n",
       "\n",
       "[186850 rows x 6 columns]"
      ]
     },
     "execution_count": 6,
     "metadata": {},
     "output_type": "execute_result"
    }
   ],
   "source": [
    "df"
   ]
  },
  {
   "cell_type": "code",
   "execution_count": 7,
   "id": "abfaf920-a053-4896-80f0-c21f5ca973d9",
   "metadata": {},
   "outputs": [
    {
     "name": "stdout",
     "output_type": "stream",
     "text": [
      "<class 'pandas.core.frame.DataFrame'>\n",
      "Int64Index: 186850 entries, 0 to 11685\n",
      "Data columns (total 6 columns):\n",
      " #   Column            Non-Null Count   Dtype \n",
      "---  ------            --------------   ----- \n",
      " 0   Order ID          186305 non-null  object\n",
      " 1   Product           186305 non-null  object\n",
      " 2   Quantity Ordered  186305 non-null  object\n",
      " 3   Price Each        186305 non-null  object\n",
      " 4   Order Date        186305 non-null  object\n",
      " 5   Purchase Address  186305 non-null  object\n",
      "dtypes: object(6)\n",
      "memory usage: 10.0+ MB\n"
     ]
    }
   ],
   "source": [
    "df.info()"
   ]
  },
  {
   "cell_type": "markdown",
   "id": "943b1498-2d1c-4164-abfc-63f3fd8bc9c6",
   "metadata": {},
   "source": [
    "Verifcamos que o DataFrame completo possui 186850 entradas, porém apenas 186305 são não-nulas. Assim, precisaremos limpar as informações indesejadas."
   ]
  },
  {
   "cell_type": "markdown",
   "id": "75482820-9a21-412c-9c10-87d7dfb740e1",
   "metadata": {},
   "source": [
    "## Tarefa 02 - Limpeza do Dataset"
   ]
  },
  {
   "cell_type": "markdown",
   "id": "c365fa2c-32f1-470c-a61b-693adb7fc841",
   "metadata": {},
   "source": [
    "Vemos que todas as colunas são do tipo 'object', ou seja, são strings. Precisamos modificar os tipos de dados para que as informações numéricas sejam representativas daquilo que queremos mostrar e que possamos realizar manipulações corretas destes dados."
   ]
  },
  {
   "cell_type": "markdown",
   "id": "cf202813-520d-4e9c-83cc-f66de54e321b",
   "metadata": {},
   "source": [
    "Vamos começar pela coluna Quantity Ordered"
   ]
  },
  {
   "cell_type": "code",
   "execution_count": 8,
   "id": "498e39f7-542c-45dc-904f-8499e87b4494",
   "metadata": {},
   "outputs": [
    {
     "data": {
      "text/plain": [
       "array(['2', nan, '1', '3', '5', 'Quantity Ordered', '4', '7', '6', '8',\n",
       "       '9'], dtype=object)"
      ]
     },
     "execution_count": 8,
     "metadata": {},
     "output_type": "execute_result"
    }
   ],
   "source": [
    "df['Quantity Ordered'].unique()"
   ]
  },
  {
   "cell_type": "markdown",
   "id": "f8eafc27-0aac-45df-8265-d431dce25a45",
   "metadata": {},
   "source": [
    "Vemos que existem dados NaN e por algum motivo o nome da coluna aparece também como entrada de dados."
   ]
  },
  {
   "cell_type": "code",
   "execution_count": 9,
   "id": "51818730-ae28-4405-89df-d3aaa452a420",
   "metadata": {},
   "outputs": [
    {
     "data": {
      "text/html": [
       "<div>\n",
       "<style scoped>\n",
       "    .dataframe tbody tr th:only-of-type {\n",
       "        vertical-align: middle;\n",
       "    }\n",
       "\n",
       "    .dataframe tbody tr th {\n",
       "        vertical-align: top;\n",
       "    }\n",
       "\n",
       "    .dataframe thead th {\n",
       "        text-align: right;\n",
       "    }\n",
       "</style>\n",
       "<table border=\"1\" class=\"dataframe\">\n",
       "  <thead>\n",
       "    <tr style=\"text-align: right;\">\n",
       "      <th></th>\n",
       "      <th>Order ID</th>\n",
       "      <th>Product</th>\n",
       "      <th>Quantity Ordered</th>\n",
       "      <th>Price Each</th>\n",
       "      <th>Order Date</th>\n",
       "      <th>Purchase Address</th>\n",
       "    </tr>\n",
       "  </thead>\n",
       "  <tbody>\n",
       "    <tr>\n",
       "      <th>519</th>\n",
       "      <td>Order ID</td>\n",
       "      <td>Product</td>\n",
       "      <td>Quantity Ordered</td>\n",
       "      <td>Price Each</td>\n",
       "      <td>Order Date</td>\n",
       "      <td>Purchase Address</td>\n",
       "    </tr>\n",
       "    <tr>\n",
       "      <th>1149</th>\n",
       "      <td>Order ID</td>\n",
       "      <td>Product</td>\n",
       "      <td>Quantity Ordered</td>\n",
       "      <td>Price Each</td>\n",
       "      <td>Order Date</td>\n",
       "      <td>Purchase Address</td>\n",
       "    </tr>\n",
       "    <tr>\n",
       "      <th>1155</th>\n",
       "      <td>Order ID</td>\n",
       "      <td>Product</td>\n",
       "      <td>Quantity Ordered</td>\n",
       "      <td>Price Each</td>\n",
       "      <td>Order Date</td>\n",
       "      <td>Purchase Address</td>\n",
       "    </tr>\n",
       "    <tr>\n",
       "      <th>2878</th>\n",
       "      <td>Order ID</td>\n",
       "      <td>Product</td>\n",
       "      <td>Quantity Ordered</td>\n",
       "      <td>Price Each</td>\n",
       "      <td>Order Date</td>\n",
       "      <td>Purchase Address</td>\n",
       "    </tr>\n",
       "    <tr>\n",
       "      <th>2893</th>\n",
       "      <td>Order ID</td>\n",
       "      <td>Product</td>\n",
       "      <td>Quantity Ordered</td>\n",
       "      <td>Price Each</td>\n",
       "      <td>Order Date</td>\n",
       "      <td>Purchase Address</td>\n",
       "    </tr>\n",
       "    <tr>\n",
       "      <th>...</th>\n",
       "      <td>...</td>\n",
       "      <td>...</td>\n",
       "      <td>...</td>\n",
       "      <td>...</td>\n",
       "      <td>...</td>\n",
       "      <td>...</td>\n",
       "    </tr>\n",
       "    <tr>\n",
       "      <th>10000</th>\n",
       "      <td>Order ID</td>\n",
       "      <td>Product</td>\n",
       "      <td>Quantity Ordered</td>\n",
       "      <td>Price Each</td>\n",
       "      <td>Order Date</td>\n",
       "      <td>Purchase Address</td>\n",
       "    </tr>\n",
       "    <tr>\n",
       "      <th>10387</th>\n",
       "      <td>Order ID</td>\n",
       "      <td>Product</td>\n",
       "      <td>Quantity Ordered</td>\n",
       "      <td>Price Each</td>\n",
       "      <td>Order Date</td>\n",
       "      <td>Purchase Address</td>\n",
       "    </tr>\n",
       "    <tr>\n",
       "      <th>11399</th>\n",
       "      <td>Order ID</td>\n",
       "      <td>Product</td>\n",
       "      <td>Quantity Ordered</td>\n",
       "      <td>Price Each</td>\n",
       "      <td>Order Date</td>\n",
       "      <td>Purchase Address</td>\n",
       "    </tr>\n",
       "    <tr>\n",
       "      <th>11468</th>\n",
       "      <td>Order ID</td>\n",
       "      <td>Product</td>\n",
       "      <td>Quantity Ordered</td>\n",
       "      <td>Price Each</td>\n",
       "      <td>Order Date</td>\n",
       "      <td>Purchase Address</td>\n",
       "    </tr>\n",
       "    <tr>\n",
       "      <th>11574</th>\n",
       "      <td>Order ID</td>\n",
       "      <td>Product</td>\n",
       "      <td>Quantity Ordered</td>\n",
       "      <td>Price Each</td>\n",
       "      <td>Order Date</td>\n",
       "      <td>Purchase Address</td>\n",
       "    </tr>\n",
       "  </tbody>\n",
       "</table>\n",
       "<p>355 rows × 6 columns</p>\n",
       "</div>"
      ],
      "text/plain": [
       "       Order ID  Product  Quantity Ordered  Price Each  Order Date  \\\n",
       "519    Order ID  Product  Quantity Ordered  Price Each  Order Date   \n",
       "1149   Order ID  Product  Quantity Ordered  Price Each  Order Date   \n",
       "1155   Order ID  Product  Quantity Ordered  Price Each  Order Date   \n",
       "2878   Order ID  Product  Quantity Ordered  Price Each  Order Date   \n",
       "2893   Order ID  Product  Quantity Ordered  Price Each  Order Date   \n",
       "...         ...      ...               ...         ...         ...   \n",
       "10000  Order ID  Product  Quantity Ordered  Price Each  Order Date   \n",
       "10387  Order ID  Product  Quantity Ordered  Price Each  Order Date   \n",
       "11399  Order ID  Product  Quantity Ordered  Price Each  Order Date   \n",
       "11468  Order ID  Product  Quantity Ordered  Price Each  Order Date   \n",
       "11574  Order ID  Product  Quantity Ordered  Price Each  Order Date   \n",
       "\n",
       "       Purchase Address  \n",
       "519    Purchase Address  \n",
       "1149   Purchase Address  \n",
       "1155   Purchase Address  \n",
       "2878   Purchase Address  \n",
       "2893   Purchase Address  \n",
       "...                 ...  \n",
       "10000  Purchase Address  \n",
       "10387  Purchase Address  \n",
       "11399  Purchase Address  \n",
       "11468  Purchase Address  \n",
       "11574  Purchase Address  \n",
       "\n",
       "[355 rows x 6 columns]"
      ]
     },
     "execution_count": 9,
     "metadata": {},
     "output_type": "execute_result"
    }
   ],
   "source": [
    "df.loc[df['Quantity Ordered'] == 'Quantity Ordered']"
   ]
  },
  {
   "cell_type": "markdown",
   "id": "53526cf6-6b48-4e78-b30b-04b4de75cfee",
   "metadata": {},
   "source": [
    "Assim, vamos remover estas entradas do dataframe:"
   ]
  },
  {
   "cell_type": "code",
   "execution_count": 10,
   "id": "2b13e83a-c11e-437e-812b-02fc90579c22",
   "metadata": {},
   "outputs": [],
   "source": [
    "df = df.loc[df['Quantity Ordered'] != 'Quantity Ordered']"
   ]
  },
  {
   "cell_type": "code",
   "execution_count": 11,
   "id": "06d2578d-e837-4a49-9066-6332a38b32e6",
   "metadata": {},
   "outputs": [
    {
     "data": {
      "text/plain": [
       "array(['2', nan, '1', '3', '5', '4', '7', '6', '8', '9'], dtype=object)"
      ]
     },
     "execution_count": 11,
     "metadata": {},
     "output_type": "execute_result"
    }
   ],
   "source": [
    "df['Quantity Ordered'].unique()"
   ]
  },
  {
   "cell_type": "markdown",
   "id": "4bbdb99f-4313-4abc-a110-ed028f1068e9",
   "metadata": {},
   "source": [
    "Podemos fazer o mesmo para NaN"
   ]
  },
  {
   "cell_type": "code",
   "execution_count": 12,
   "id": "a14d26d7-2f58-4191-a197-a170fa27bdd6",
   "metadata": {},
   "outputs": [
    {
     "data": {
      "text/html": [
       "<div>\n",
       "<style scoped>\n",
       "    .dataframe tbody tr th:only-of-type {\n",
       "        vertical-align: middle;\n",
       "    }\n",
       "\n",
       "    .dataframe tbody tr th {\n",
       "        vertical-align: top;\n",
       "    }\n",
       "\n",
       "    .dataframe thead th {\n",
       "        text-align: right;\n",
       "    }\n",
       "</style>\n",
       "<table border=\"1\" class=\"dataframe\">\n",
       "  <thead>\n",
       "    <tr style=\"text-align: right;\">\n",
       "      <th></th>\n",
       "      <th>Order ID</th>\n",
       "      <th>Product</th>\n",
       "      <th>Quantity Ordered</th>\n",
       "      <th>Price Each</th>\n",
       "      <th>Order Date</th>\n",
       "      <th>Purchase Address</th>\n",
       "    </tr>\n",
       "  </thead>\n",
       "  <tbody>\n",
       "    <tr>\n",
       "      <th>1</th>\n",
       "      <td>NaN</td>\n",
       "      <td>NaN</td>\n",
       "      <td>NaN</td>\n",
       "      <td>NaN</td>\n",
       "      <td>NaN</td>\n",
       "      <td>NaN</td>\n",
       "    </tr>\n",
       "    <tr>\n",
       "      <th>356</th>\n",
       "      <td>NaN</td>\n",
       "      <td>NaN</td>\n",
       "      <td>NaN</td>\n",
       "      <td>NaN</td>\n",
       "      <td>NaN</td>\n",
       "      <td>NaN</td>\n",
       "    </tr>\n",
       "    <tr>\n",
       "      <th>735</th>\n",
       "      <td>NaN</td>\n",
       "      <td>NaN</td>\n",
       "      <td>NaN</td>\n",
       "      <td>NaN</td>\n",
       "      <td>NaN</td>\n",
       "      <td>NaN</td>\n",
       "    </tr>\n",
       "    <tr>\n",
       "      <th>1433</th>\n",
       "      <td>NaN</td>\n",
       "      <td>NaN</td>\n",
       "      <td>NaN</td>\n",
       "      <td>NaN</td>\n",
       "      <td>NaN</td>\n",
       "      <td>NaN</td>\n",
       "    </tr>\n",
       "    <tr>\n",
       "      <th>1553</th>\n",
       "      <td>NaN</td>\n",
       "      <td>NaN</td>\n",
       "      <td>NaN</td>\n",
       "      <td>NaN</td>\n",
       "      <td>NaN</td>\n",
       "      <td>NaN</td>\n",
       "    </tr>\n",
       "    <tr>\n",
       "      <th>...</th>\n",
       "      <td>...</td>\n",
       "      <td>...</td>\n",
       "      <td>...</td>\n",
       "      <td>...</td>\n",
       "      <td>...</td>\n",
       "      <td>...</td>\n",
       "    </tr>\n",
       "    <tr>\n",
       "      <th>10012</th>\n",
       "      <td>NaN</td>\n",
       "      <td>NaN</td>\n",
       "      <td>NaN</td>\n",
       "      <td>NaN</td>\n",
       "      <td>NaN</td>\n",
       "      <td>NaN</td>\n",
       "    </tr>\n",
       "    <tr>\n",
       "      <th>10274</th>\n",
       "      <td>NaN</td>\n",
       "      <td>NaN</td>\n",
       "      <td>NaN</td>\n",
       "      <td>NaN</td>\n",
       "      <td>NaN</td>\n",
       "      <td>NaN</td>\n",
       "    </tr>\n",
       "    <tr>\n",
       "      <th>10878</th>\n",
       "      <td>NaN</td>\n",
       "      <td>NaN</td>\n",
       "      <td>NaN</td>\n",
       "      <td>NaN</td>\n",
       "      <td>NaN</td>\n",
       "      <td>NaN</td>\n",
       "    </tr>\n",
       "    <tr>\n",
       "      <th>11384</th>\n",
       "      <td>NaN</td>\n",
       "      <td>NaN</td>\n",
       "      <td>NaN</td>\n",
       "      <td>NaN</td>\n",
       "      <td>NaN</td>\n",
       "      <td>NaN</td>\n",
       "    </tr>\n",
       "    <tr>\n",
       "      <th>11662</th>\n",
       "      <td>NaN</td>\n",
       "      <td>NaN</td>\n",
       "      <td>NaN</td>\n",
       "      <td>NaN</td>\n",
       "      <td>NaN</td>\n",
       "      <td>NaN</td>\n",
       "    </tr>\n",
       "  </tbody>\n",
       "</table>\n",
       "<p>545 rows × 6 columns</p>\n",
       "</div>"
      ],
      "text/plain": [
       "      Order ID Product Quantity Ordered Price Each Order Date Purchase Address\n",
       "1          NaN     NaN              NaN        NaN        NaN              NaN\n",
       "356        NaN     NaN              NaN        NaN        NaN              NaN\n",
       "735        NaN     NaN              NaN        NaN        NaN              NaN\n",
       "1433       NaN     NaN              NaN        NaN        NaN              NaN\n",
       "1553       NaN     NaN              NaN        NaN        NaN              NaN\n",
       "...        ...     ...              ...        ...        ...              ...\n",
       "10012      NaN     NaN              NaN        NaN        NaN              NaN\n",
       "10274      NaN     NaN              NaN        NaN        NaN              NaN\n",
       "10878      NaN     NaN              NaN        NaN        NaN              NaN\n",
       "11384      NaN     NaN              NaN        NaN        NaN              NaN\n",
       "11662      NaN     NaN              NaN        NaN        NaN              NaN\n",
       "\n",
       "[545 rows x 6 columns]"
      ]
     },
     "execution_count": 12,
     "metadata": {},
     "output_type": "execute_result"
    }
   ],
   "source": [
    "df[df.isna().any(axis=1)]"
   ]
  },
  {
   "cell_type": "code",
   "execution_count": 13,
   "id": "3da3f17f-e86b-43e3-87b9-adb8fdb11b08",
   "metadata": {},
   "outputs": [],
   "source": [
    "df = df.dropna()"
   ]
  },
  {
   "cell_type": "code",
   "execution_count": 14,
   "id": "16765e72-9640-481d-8441-4215079f52e2",
   "metadata": {},
   "outputs": [
    {
     "data": {
      "text/plain": [
       "array(['2', '1', '3', '5', '4', '7', '6', '8', '9'], dtype=object)"
      ]
     },
     "execution_count": 14,
     "metadata": {},
     "output_type": "execute_result"
    }
   ],
   "source": [
    "df['Quantity Ordered'].unique()"
   ]
  },
  {
   "cell_type": "code",
   "execution_count": 15,
   "id": "490dc92e-8c33-48c9-acc9-423f9925dc55",
   "metadata": {},
   "outputs": [
    {
     "data": {
      "text/html": [
       "<div>\n",
       "<style scoped>\n",
       "    .dataframe tbody tr th:only-of-type {\n",
       "        vertical-align: middle;\n",
       "    }\n",
       "\n",
       "    .dataframe tbody tr th {\n",
       "        vertical-align: top;\n",
       "    }\n",
       "\n",
       "    .dataframe thead th {\n",
       "        text-align: right;\n",
       "    }\n",
       "</style>\n",
       "<table border=\"1\" class=\"dataframe\">\n",
       "  <thead>\n",
       "    <tr style=\"text-align: right;\">\n",
       "      <th></th>\n",
       "      <th>Order ID</th>\n",
       "      <th>Product</th>\n",
       "      <th>Quantity Ordered</th>\n",
       "      <th>Price Each</th>\n",
       "      <th>Order Date</th>\n",
       "      <th>Purchase Address</th>\n",
       "    </tr>\n",
       "  </thead>\n",
       "  <tbody>\n",
       "    <tr>\n",
       "      <th>0</th>\n",
       "      <td>176558</td>\n",
       "      <td>USB-C Charging Cable</td>\n",
       "      <td>2</td>\n",
       "      <td>11.95</td>\n",
       "      <td>04/19/19 08:46</td>\n",
       "      <td>917 1st St, Dallas, TX 75001</td>\n",
       "    </tr>\n",
       "    <tr>\n",
       "      <th>2</th>\n",
       "      <td>176559</td>\n",
       "      <td>Bose SoundSport Headphones</td>\n",
       "      <td>1</td>\n",
       "      <td>99.99</td>\n",
       "      <td>04/07/19 22:30</td>\n",
       "      <td>682 Chestnut St, Boston, MA 02215</td>\n",
       "    </tr>\n",
       "    <tr>\n",
       "      <th>3</th>\n",
       "      <td>176560</td>\n",
       "      <td>Google Phone</td>\n",
       "      <td>1</td>\n",
       "      <td>600</td>\n",
       "      <td>04/12/19 14:38</td>\n",
       "      <td>669 Spruce St, Los Angeles, CA 90001</td>\n",
       "    </tr>\n",
       "    <tr>\n",
       "      <th>4</th>\n",
       "      <td>176560</td>\n",
       "      <td>Wired Headphones</td>\n",
       "      <td>1</td>\n",
       "      <td>11.99</td>\n",
       "      <td>04/12/19 14:38</td>\n",
       "      <td>669 Spruce St, Los Angeles, CA 90001</td>\n",
       "    </tr>\n",
       "    <tr>\n",
       "      <th>5</th>\n",
       "      <td>176561</td>\n",
       "      <td>Wired Headphones</td>\n",
       "      <td>1</td>\n",
       "      <td>11.99</td>\n",
       "      <td>04/30/19 09:27</td>\n",
       "      <td>333 8th St, Los Angeles, CA 90001</td>\n",
       "    </tr>\n",
       "  </tbody>\n",
       "</table>\n",
       "</div>"
      ],
      "text/plain": [
       "  Order ID                     Product Quantity Ordered Price Each  \\\n",
       "0   176558        USB-C Charging Cable                2      11.95   \n",
       "2   176559  Bose SoundSport Headphones                1      99.99   \n",
       "3   176560                Google Phone                1        600   \n",
       "4   176560            Wired Headphones                1      11.99   \n",
       "5   176561            Wired Headphones                1      11.99   \n",
       "\n",
       "       Order Date                      Purchase Address  \n",
       "0  04/19/19 08:46          917 1st St, Dallas, TX 75001  \n",
       "2  04/07/19 22:30     682 Chestnut St, Boston, MA 02215  \n",
       "3  04/12/19 14:38  669 Spruce St, Los Angeles, CA 90001  \n",
       "4  04/12/19 14:38  669 Spruce St, Los Angeles, CA 90001  \n",
       "5  04/30/19 09:27     333 8th St, Los Angeles, CA 90001  "
      ]
     },
     "execution_count": 15,
     "metadata": {},
     "output_type": "execute_result"
    }
   ],
   "source": [
    "df.head()"
   ]
  },
  {
   "cell_type": "code",
   "execution_count": 16,
   "id": "8d349df2-47ab-40d3-94c3-b153ef72955b",
   "metadata": {},
   "outputs": [
    {
     "name": "stdout",
     "output_type": "stream",
     "text": [
      "<class 'pandas.core.frame.DataFrame'>\n",
      "Int64Index: 185950 entries, 0 to 11685\n",
      "Data columns (total 6 columns):\n",
      " #   Column            Non-Null Count   Dtype \n",
      "---  ------            --------------   ----- \n",
      " 0   Order ID          185950 non-null  object\n",
      " 1   Product           185950 non-null  object\n",
      " 2   Quantity Ordered  185950 non-null  object\n",
      " 3   Price Each        185950 non-null  object\n",
      " 4   Order Date        185950 non-null  object\n",
      " 5   Purchase Address  185950 non-null  object\n",
      "dtypes: object(6)\n",
      "memory usage: 9.9+ MB\n"
     ]
    }
   ],
   "source": [
    "df.info()"
   ]
  },
  {
   "cell_type": "markdown",
   "id": "9b6ea150-ac16-44a4-855d-ec3409f6b630",
   "metadata": {},
   "source": [
    "Agora verificamos que todos os dados do data set são não nulos e, no que diz respeito à Quantity Ordered, estão de acordo com o esperado. Podemos transformar o tipo de dado para numérico (INT)"
   ]
  },
  {
   "cell_type": "code",
   "execution_count": 17,
   "id": "ae820aff-8d31-471d-96d6-3579fd5e35bb",
   "metadata": {},
   "outputs": [],
   "source": [
    "df['Quantity Ordered'] = df['Quantity Ordered'].astype(int)"
   ]
  },
  {
   "cell_type": "markdown",
   "id": "36d2f2ac-4e7b-4255-965c-b9549aef1a2a",
   "metadata": {},
   "source": [
    "Aproveitando, vamos transformar também os dados da coluna Price Each, que representa o valor individual de cada item"
   ]
  },
  {
   "cell_type": "code",
   "execution_count": 18,
   "id": "71e9f924-c55f-44c4-a880-8bfaa883160f",
   "metadata": {},
   "outputs": [],
   "source": [
    "df['Price Each'] = df['Price Each'].astype(float)"
   ]
  },
  {
   "cell_type": "code",
   "execution_count": 19,
   "id": "f64bc3e8-499d-490a-a513-5788a6d263fb",
   "metadata": {},
   "outputs": [
    {
     "name": "stdout",
     "output_type": "stream",
     "text": [
      "<class 'pandas.core.frame.DataFrame'>\n",
      "Int64Index: 185950 entries, 0 to 11685\n",
      "Data columns (total 6 columns):\n",
      " #   Column            Non-Null Count   Dtype  \n",
      "---  ------            --------------   -----  \n",
      " 0   Order ID          185950 non-null  object \n",
      " 1   Product           185950 non-null  object \n",
      " 2   Quantity Ordered  185950 non-null  int32  \n",
      " 3   Price Each        185950 non-null  float64\n",
      " 4   Order Date        185950 non-null  object \n",
      " 5   Purchase Address  185950 non-null  object \n",
      "dtypes: float64(1), int32(1), object(4)\n",
      "memory usage: 9.2+ MB\n"
     ]
    }
   ],
   "source": [
    "df.info()"
   ]
  },
  {
   "cell_type": "markdown",
   "id": "64107b32-05a5-4a17-9296-a0021750d6ba",
   "metadata": {},
   "source": [
    "Agora, podemos trabalhar com a data. Como vemos, a coluna Order Date também apresenta as informações em formato object. Assim, para realizarmos análises temporais, precisamos transformar esta coluna em um formato reconhecivel como data."
   ]
  },
  {
   "cell_type": "code",
   "execution_count": 20,
   "id": "e34f1c0e-f239-4ae6-a5a7-a6c785453688",
   "metadata": {},
   "outputs": [],
   "source": [
    "#Transformar a coluna Order Date para datetime\n",
    "df['Order Date'] = pd.to_datetime(df['Order Date'])"
   ]
  },
  {
   "cell_type": "code",
   "execution_count": 21,
   "id": "c4730767-b530-4eaa-b34e-e2046f7433ce",
   "metadata": {},
   "outputs": [],
   "source": [
    "#Criar uma nova coluna que vai conter apenas o mês (texto)\n",
    "df['Order Month'] = df['Order Date'].dt.strftime('%B')"
   ]
  },
  {
   "cell_type": "code",
   "execution_count": 22,
   "id": "0704aa3d-8ad0-4b4b-894b-e209b2d8e8f2",
   "metadata": {},
   "outputs": [],
   "source": [
    "#Criar uma coluna que vai conter o dia da semana\n",
    "df['Order Week_Day'] = df['Order Date'].dt.strftime('%A')"
   ]
  },
  {
   "cell_type": "code",
   "execution_count": 23,
   "id": "2d99454e-9ccf-48ab-b08c-a86b308832c1",
   "metadata": {},
   "outputs": [],
   "source": [
    "#Criar uma coluna que vai conter o mes (numero)\n",
    "df['Order Month_num'] = df['Order Date'].dt.strftime('%m')"
   ]
  },
  {
   "cell_type": "code",
   "execution_count": 24,
   "id": "10428091-66bf-4cb4-8690-27283ece3864",
   "metadata": {},
   "outputs": [
    {
     "data": {
      "text/html": [
       "<div>\n",
       "<style scoped>\n",
       "    .dataframe tbody tr th:only-of-type {\n",
       "        vertical-align: middle;\n",
       "    }\n",
       "\n",
       "    .dataframe tbody tr th {\n",
       "        vertical-align: top;\n",
       "    }\n",
       "\n",
       "    .dataframe thead th {\n",
       "        text-align: right;\n",
       "    }\n",
       "</style>\n",
       "<table border=\"1\" class=\"dataframe\">\n",
       "  <thead>\n",
       "    <tr style=\"text-align: right;\">\n",
       "      <th></th>\n",
       "      <th>Order ID</th>\n",
       "      <th>Product</th>\n",
       "      <th>Quantity Ordered</th>\n",
       "      <th>Price Each</th>\n",
       "      <th>Order Date</th>\n",
       "      <th>Purchase Address</th>\n",
       "      <th>Order Month</th>\n",
       "      <th>Order Week_Day</th>\n",
       "      <th>Order Month_num</th>\n",
       "    </tr>\n",
       "  </thead>\n",
       "  <tbody>\n",
       "    <tr>\n",
       "      <th>0</th>\n",
       "      <td>176558</td>\n",
       "      <td>USB-C Charging Cable</td>\n",
       "      <td>2</td>\n",
       "      <td>11.95</td>\n",
       "      <td>2019-04-19 08:46:00</td>\n",
       "      <td>917 1st St, Dallas, TX 75001</td>\n",
       "      <td>April</td>\n",
       "      <td>Friday</td>\n",
       "      <td>04</td>\n",
       "    </tr>\n",
       "    <tr>\n",
       "      <th>2</th>\n",
       "      <td>176559</td>\n",
       "      <td>Bose SoundSport Headphones</td>\n",
       "      <td>1</td>\n",
       "      <td>99.99</td>\n",
       "      <td>2019-04-07 22:30:00</td>\n",
       "      <td>682 Chestnut St, Boston, MA 02215</td>\n",
       "      <td>April</td>\n",
       "      <td>Sunday</td>\n",
       "      <td>04</td>\n",
       "    </tr>\n",
       "    <tr>\n",
       "      <th>3</th>\n",
       "      <td>176560</td>\n",
       "      <td>Google Phone</td>\n",
       "      <td>1</td>\n",
       "      <td>600.00</td>\n",
       "      <td>2019-04-12 14:38:00</td>\n",
       "      <td>669 Spruce St, Los Angeles, CA 90001</td>\n",
       "      <td>April</td>\n",
       "      <td>Friday</td>\n",
       "      <td>04</td>\n",
       "    </tr>\n",
       "    <tr>\n",
       "      <th>4</th>\n",
       "      <td>176560</td>\n",
       "      <td>Wired Headphones</td>\n",
       "      <td>1</td>\n",
       "      <td>11.99</td>\n",
       "      <td>2019-04-12 14:38:00</td>\n",
       "      <td>669 Spruce St, Los Angeles, CA 90001</td>\n",
       "      <td>April</td>\n",
       "      <td>Friday</td>\n",
       "      <td>04</td>\n",
       "    </tr>\n",
       "    <tr>\n",
       "      <th>5</th>\n",
       "      <td>176561</td>\n",
       "      <td>Wired Headphones</td>\n",
       "      <td>1</td>\n",
       "      <td>11.99</td>\n",
       "      <td>2019-04-30 09:27:00</td>\n",
       "      <td>333 8th St, Los Angeles, CA 90001</td>\n",
       "      <td>April</td>\n",
       "      <td>Tuesday</td>\n",
       "      <td>04</td>\n",
       "    </tr>\n",
       "  </tbody>\n",
       "</table>\n",
       "</div>"
      ],
      "text/plain": [
       "  Order ID                     Product  Quantity Ordered  Price Each  \\\n",
       "0   176558        USB-C Charging Cable                 2       11.95   \n",
       "2   176559  Bose SoundSport Headphones                 1       99.99   \n",
       "3   176560                Google Phone                 1      600.00   \n",
       "4   176560            Wired Headphones                 1       11.99   \n",
       "5   176561            Wired Headphones                 1       11.99   \n",
       "\n",
       "           Order Date                      Purchase Address Order Month  \\\n",
       "0 2019-04-19 08:46:00          917 1st St, Dallas, TX 75001       April   \n",
       "2 2019-04-07 22:30:00     682 Chestnut St, Boston, MA 02215       April   \n",
       "3 2019-04-12 14:38:00  669 Spruce St, Los Angeles, CA 90001       April   \n",
       "4 2019-04-12 14:38:00  669 Spruce St, Los Angeles, CA 90001       April   \n",
       "5 2019-04-30 09:27:00     333 8th St, Los Angeles, CA 90001       April   \n",
       "\n",
       "  Order Week_Day Order Month_num  \n",
       "0         Friday              04  \n",
       "2         Sunday              04  \n",
       "3         Friday              04  \n",
       "4         Friday              04  \n",
       "5        Tuesday              04  "
      ]
     },
     "execution_count": 24,
     "metadata": {},
     "output_type": "execute_result"
    }
   ],
   "source": [
    "df.head()"
   ]
  },
  {
   "cell_type": "markdown",
   "id": "a8b50f33-2a89-4045-beee-5a4d9da75d62",
   "metadata": {},
   "source": [
    "Com a limpeza finalizada, podemos começar a responder algumas questões de negócio."
   ]
  },
  {
   "cell_type": "markdown",
   "id": "fc85f0a0-3669-46c0-9762-ee98214b42c8",
   "metadata": {},
   "source": [
    "#### Pergunta 01: Qual o melhor mês para vendas? Quão o valor ganho neste mês?"
   ]
  },
  {
   "cell_type": "markdown",
   "id": "680e549a-4a84-4376-bc47-1d048dcea4a2",
   "metadata": {},
   "source": [
    "Precisamos criar uma coluna com a soma total dos produtos vendidos. Vemos que temos o preço unitário e a quantidade comprada em cada pedido. Assim, basta multiplicar as duas colunas"
   ]
  },
  {
   "cell_type": "code",
   "execution_count": 25,
   "id": "1f2f8722-a802-4d38-9d03-6a70e4c74ee0",
   "metadata": {},
   "outputs": [],
   "source": [
    "df['Price Total'] = df['Price Each']*df['Quantity Ordered']"
   ]
  },
  {
   "cell_type": "code",
   "execution_count": 26,
   "id": "e8b823fe-3c39-40a1-8b2d-ad619a8b7ac3",
   "metadata": {},
   "outputs": [
    {
     "data": {
      "text/html": [
       "<div>\n",
       "<style scoped>\n",
       "    .dataframe tbody tr th:only-of-type {\n",
       "        vertical-align: middle;\n",
       "    }\n",
       "\n",
       "    .dataframe tbody tr th {\n",
       "        vertical-align: top;\n",
       "    }\n",
       "\n",
       "    .dataframe thead th {\n",
       "        text-align: right;\n",
       "    }\n",
       "</style>\n",
       "<table border=\"1\" class=\"dataframe\">\n",
       "  <thead>\n",
       "    <tr style=\"text-align: right;\">\n",
       "      <th></th>\n",
       "      <th>Order ID</th>\n",
       "      <th>Product</th>\n",
       "      <th>Quantity Ordered</th>\n",
       "      <th>Price Each</th>\n",
       "      <th>Order Date</th>\n",
       "      <th>Purchase Address</th>\n",
       "      <th>Order Month</th>\n",
       "      <th>Order Week_Day</th>\n",
       "      <th>Order Month_num</th>\n",
       "      <th>Price Total</th>\n",
       "    </tr>\n",
       "  </thead>\n",
       "  <tbody>\n",
       "    <tr>\n",
       "      <th>0</th>\n",
       "      <td>176558</td>\n",
       "      <td>USB-C Charging Cable</td>\n",
       "      <td>2</td>\n",
       "      <td>11.95</td>\n",
       "      <td>2019-04-19 08:46:00</td>\n",
       "      <td>917 1st St, Dallas, TX 75001</td>\n",
       "      <td>April</td>\n",
       "      <td>Friday</td>\n",
       "      <td>04</td>\n",
       "      <td>23.90</td>\n",
       "    </tr>\n",
       "    <tr>\n",
       "      <th>2</th>\n",
       "      <td>176559</td>\n",
       "      <td>Bose SoundSport Headphones</td>\n",
       "      <td>1</td>\n",
       "      <td>99.99</td>\n",
       "      <td>2019-04-07 22:30:00</td>\n",
       "      <td>682 Chestnut St, Boston, MA 02215</td>\n",
       "      <td>April</td>\n",
       "      <td>Sunday</td>\n",
       "      <td>04</td>\n",
       "      <td>99.99</td>\n",
       "    </tr>\n",
       "    <tr>\n",
       "      <th>3</th>\n",
       "      <td>176560</td>\n",
       "      <td>Google Phone</td>\n",
       "      <td>1</td>\n",
       "      <td>600.00</td>\n",
       "      <td>2019-04-12 14:38:00</td>\n",
       "      <td>669 Spruce St, Los Angeles, CA 90001</td>\n",
       "      <td>April</td>\n",
       "      <td>Friday</td>\n",
       "      <td>04</td>\n",
       "      <td>600.00</td>\n",
       "    </tr>\n",
       "    <tr>\n",
       "      <th>4</th>\n",
       "      <td>176560</td>\n",
       "      <td>Wired Headphones</td>\n",
       "      <td>1</td>\n",
       "      <td>11.99</td>\n",
       "      <td>2019-04-12 14:38:00</td>\n",
       "      <td>669 Spruce St, Los Angeles, CA 90001</td>\n",
       "      <td>April</td>\n",
       "      <td>Friday</td>\n",
       "      <td>04</td>\n",
       "      <td>11.99</td>\n",
       "    </tr>\n",
       "    <tr>\n",
       "      <th>5</th>\n",
       "      <td>176561</td>\n",
       "      <td>Wired Headphones</td>\n",
       "      <td>1</td>\n",
       "      <td>11.99</td>\n",
       "      <td>2019-04-30 09:27:00</td>\n",
       "      <td>333 8th St, Los Angeles, CA 90001</td>\n",
       "      <td>April</td>\n",
       "      <td>Tuesday</td>\n",
       "      <td>04</td>\n",
       "      <td>11.99</td>\n",
       "    </tr>\n",
       "  </tbody>\n",
       "</table>\n",
       "</div>"
      ],
      "text/plain": [
       "  Order ID                     Product  Quantity Ordered  Price Each  \\\n",
       "0   176558        USB-C Charging Cable                 2       11.95   \n",
       "2   176559  Bose SoundSport Headphones                 1       99.99   \n",
       "3   176560                Google Phone                 1      600.00   \n",
       "4   176560            Wired Headphones                 1       11.99   \n",
       "5   176561            Wired Headphones                 1       11.99   \n",
       "\n",
       "           Order Date                      Purchase Address Order Month  \\\n",
       "0 2019-04-19 08:46:00          917 1st St, Dallas, TX 75001       April   \n",
       "2 2019-04-07 22:30:00     682 Chestnut St, Boston, MA 02215       April   \n",
       "3 2019-04-12 14:38:00  669 Spruce St, Los Angeles, CA 90001       April   \n",
       "4 2019-04-12 14:38:00  669 Spruce St, Los Angeles, CA 90001       April   \n",
       "5 2019-04-30 09:27:00     333 8th St, Los Angeles, CA 90001       April   \n",
       "\n",
       "  Order Week_Day Order Month_num  Price Total  \n",
       "0         Friday              04        23.90  \n",
       "2         Sunday              04        99.99  \n",
       "3         Friday              04       600.00  \n",
       "4         Friday              04        11.99  \n",
       "5        Tuesday              04        11.99  "
      ]
     },
     "execution_count": 26,
     "metadata": {},
     "output_type": "execute_result"
    }
   ],
   "source": [
    "df.head()"
   ]
  },
  {
   "cell_type": "markdown",
   "id": "bf7257da-1285-4ddf-a635-a5758bc06eb4",
   "metadata": {},
   "source": [
    "Agora podemos somar a quantidade vendida por mês."
   ]
  },
  {
   "cell_type": "code",
   "execution_count": 27,
   "id": "7606a8f8-827c-409e-87c6-af7643be1470",
   "metadata": {},
   "outputs": [
    {
     "data": {
      "text/html": [
       "<div>\n",
       "<style scoped>\n",
       "    .dataframe tbody tr th:only-of-type {\n",
       "        vertical-align: middle;\n",
       "    }\n",
       "\n",
       "    .dataframe tbody tr th {\n",
       "        vertical-align: top;\n",
       "    }\n",
       "\n",
       "    .dataframe thead th {\n",
       "        text-align: right;\n",
       "    }\n",
       "</style>\n",
       "<table border=\"1\" class=\"dataframe\">\n",
       "  <thead>\n",
       "    <tr style=\"text-align: right;\">\n",
       "      <th></th>\n",
       "      <th></th>\n",
       "      <th>Price Total</th>\n",
       "    </tr>\n",
       "    <tr>\n",
       "      <th>Order Month_num</th>\n",
       "      <th>Order Month</th>\n",
       "      <th></th>\n",
       "    </tr>\n",
       "  </thead>\n",
       "  <tbody>\n",
       "    <tr>\n",
       "      <th>01</th>\n",
       "      <th>January</th>\n",
       "      <td>1822256.73</td>\n",
       "    </tr>\n",
       "    <tr>\n",
       "      <th>02</th>\n",
       "      <th>February</th>\n",
       "      <td>2202022.42</td>\n",
       "    </tr>\n",
       "    <tr>\n",
       "      <th>03</th>\n",
       "      <th>March</th>\n",
       "      <td>2807100.38</td>\n",
       "    </tr>\n",
       "    <tr>\n",
       "      <th>04</th>\n",
       "      <th>April</th>\n",
       "      <td>3390670.24</td>\n",
       "    </tr>\n",
       "    <tr>\n",
       "      <th>05</th>\n",
       "      <th>May</th>\n",
       "      <td>3152606.75</td>\n",
       "    </tr>\n",
       "    <tr>\n",
       "      <th>06</th>\n",
       "      <th>June</th>\n",
       "      <td>2577802.26</td>\n",
       "    </tr>\n",
       "    <tr>\n",
       "      <th>07</th>\n",
       "      <th>July</th>\n",
       "      <td>2647775.76</td>\n",
       "    </tr>\n",
       "    <tr>\n",
       "      <th>08</th>\n",
       "      <th>August</th>\n",
       "      <td>2244467.88</td>\n",
       "    </tr>\n",
       "    <tr>\n",
       "      <th>09</th>\n",
       "      <th>September</th>\n",
       "      <td>2097560.13</td>\n",
       "    </tr>\n",
       "    <tr>\n",
       "      <th>10</th>\n",
       "      <th>October</th>\n",
       "      <td>3736726.88</td>\n",
       "    </tr>\n",
       "    <tr>\n",
       "      <th>11</th>\n",
       "      <th>November</th>\n",
       "      <td>3199603.20</td>\n",
       "    </tr>\n",
       "    <tr>\n",
       "      <th>12</th>\n",
       "      <th>December</th>\n",
       "      <td>4613443.34</td>\n",
       "    </tr>\n",
       "  </tbody>\n",
       "</table>\n",
       "</div>"
      ],
      "text/plain": [
       "                             Price Total\n",
       "Order Month_num Order Month             \n",
       "01              January       1822256.73\n",
       "02              February      2202022.42\n",
       "03              March         2807100.38\n",
       "04              April         3390670.24\n",
       "05              May           3152606.75\n",
       "06              June          2577802.26\n",
       "07              July          2647775.76\n",
       "08              August        2244467.88\n",
       "09              September     2097560.13\n",
       "10              October       3736726.88\n",
       "11              November      3199603.20\n",
       "12              December      4613443.34"
      ]
     },
     "execution_count": 27,
     "metadata": {},
     "output_type": "execute_result"
    }
   ],
   "source": [
    "month_sale = df.groupby(['Order Month_num','Order Month'])[['Price Total']].sum().sort_values(by = 'Order Month_num')\n",
    "month_sale"
   ]
  },
  {
   "cell_type": "markdown",
   "id": "2ecb9ea3-526a-4573-be36-0342328607d0",
   "metadata": {},
   "source": [
    "Vemos que o melhor mês para vendas foi Dezembro, com $ 4.613.446,34 vendidos"
   ]
  },
  {
   "cell_type": "markdown",
   "id": "ab8abe87-b8e7-4f77-a432-12788ef06d3d",
   "metadata": {},
   "source": [
    "Vamos pplotar para facilitar a visualização e comparação entre os meses"
   ]
  },
  {
   "cell_type": "code",
   "execution_count": 28,
   "id": "3ba00680-94df-486c-9a54-df57da78d5ce",
   "metadata": {},
   "outputs": [
    {
     "data": {
      "text/plain": [
       "<Axes: xlabel='Order Month_num,Order Month'>"
      ]
     },
     "execution_count": 28,
     "metadata": {},
     "output_type": "execute_result"
    },
    {
     "data": {
      "image/png": "[encoded data removed]",
      "text/plain": [
       "<Figure size 640x480 with 1 Axes>"
      ]
     },
     "metadata": {},
     "output_type": "display_data"
    }
   ],
   "source": [
    "month_sale.plot.bar()"
   ]
  },
  {
   "cell_type": "markdown",
   "id": "8116b9ad-af71-4fd7-a701-d736f9b428c7",
   "metadata": {},
   "source": [
    "#### Pergunta 02: Qual cidade teve a maior quantidade de vendas?"
   ]
  },
  {
   "cell_type": "markdown",
   "id": "d0f2d9cd-6408-446e-89ec-c4021fd43f1c",
   "metadata": {},
   "source": [
    "Vamos inicialmente obter uma nova coluna apenas com o nome da cidade."
   ]
  },
  {
   "cell_type": "code",
   "execution_count": 29,
   "id": "58d8b09e-7b6d-4789-8505-4767e4a128ed",
   "metadata": {},
   "outputs": [],
   "source": [
    "#Primeiro vamos criar uma função que, a partir de um texto, pega a string\n",
    "#entre virgulas (sabemos que neste dataframe a cidade está entre virgulas)\n",
    "def get_city(txt):\n",
    "    return txt.split(',')[1].lstrip()\n"
   ]
  },
  {
   "cell_type": "code",
   "execution_count": 30,
   "id": "3fb19331-cfd4-48f0-9feb-97ce5972bbcf",
   "metadata": {},
   "outputs": [
    {
     "data": {
      "text/plain": [
       "'Dallas'"
      ]
     },
     "execution_count": 30,
     "metadata": {},
     "output_type": "execute_result"
    }
   ],
   "source": [
    "#verificando se está correto\n",
    "get_city('917 1st St, Dallas, TX 75001')"
   ]
  },
  {
   "cell_type": "code",
   "execution_count": 31,
   "id": "a999948b-8eef-41d8-9641-4a73cfa94652",
   "metadata": {},
   "outputs": [],
   "source": [
    "#aplicando no dataframe\n",
    "df['Purchase City'] = df['Purchase Address'].apply(get_city)"
   ]
  },
  {
   "cell_type": "code",
   "execution_count": 32,
   "id": "a44dfd12-8100-47bf-88cb-a8d2d3c6d78b",
   "metadata": {},
   "outputs": [
    {
     "data": {
      "text/html": [
       "<div>\n",
       "<style scoped>\n",
       "    .dataframe tbody tr th:only-of-type {\n",
       "        vertical-align: middle;\n",
       "    }\n",
       "\n",
       "    .dataframe tbody tr th {\n",
       "        vertical-align: top;\n",
       "    }\n",
       "\n",
       "    .dataframe thead th {\n",
       "        text-align: right;\n",
       "    }\n",
       "</style>\n",
       "<table border=\"1\" class=\"dataframe\">\n",
       "  <thead>\n",
       "    <tr style=\"text-align: right;\">\n",
       "      <th></th>\n",
       "      <th>Order ID</th>\n",
       "      <th>Product</th>\n",
       "      <th>Quantity Ordered</th>\n",
       "      <th>Price Each</th>\n",
       "      <th>Order Date</th>\n",
       "      <th>Purchase Address</th>\n",
       "      <th>Order Month</th>\n",
       "      <th>Order Week_Day</th>\n",
       "      <th>Order Month_num</th>\n",
       "      <th>Price Total</th>\n",
       "      <th>Purchase City</th>\n",
       "    </tr>\n",
       "  </thead>\n",
       "  <tbody>\n",
       "    <tr>\n",
       "      <th>0</th>\n",
       "      <td>176558</td>\n",
       "      <td>USB-C Charging Cable</td>\n",
       "      <td>2</td>\n",
       "      <td>11.95</td>\n",
       "      <td>2019-04-19 08:46:00</td>\n",
       "      <td>917 1st St, Dallas, TX 75001</td>\n",
       "      <td>April</td>\n",
       "      <td>Friday</td>\n",
       "      <td>04</td>\n",
       "      <td>23.90</td>\n",
       "      <td>Dallas</td>\n",
       "    </tr>\n",
       "    <tr>\n",
       "      <th>2</th>\n",
       "      <td>176559</td>\n",
       "      <td>Bose SoundSport Headphones</td>\n",
       "      <td>1</td>\n",
       "      <td>99.99</td>\n",
       "      <td>2019-04-07 22:30:00</td>\n",
       "      <td>682 Chestnut St, Boston, MA 02215</td>\n",
       "      <td>April</td>\n",
       "      <td>Sunday</td>\n",
       "      <td>04</td>\n",
       "      <td>99.99</td>\n",
       "      <td>Boston</td>\n",
       "    </tr>\n",
       "    <tr>\n",
       "      <th>3</th>\n",
       "      <td>176560</td>\n",
       "      <td>Google Phone</td>\n",
       "      <td>1</td>\n",
       "      <td>600.00</td>\n",
       "      <td>2019-04-12 14:38:00</td>\n",
       "      <td>669 Spruce St, Los Angeles, CA 90001</td>\n",
       "      <td>April</td>\n",
       "      <td>Friday</td>\n",
       "      <td>04</td>\n",
       "      <td>600.00</td>\n",
       "      <td>Los Angeles</td>\n",
       "    </tr>\n",
       "    <tr>\n",
       "      <th>4</th>\n",
       "      <td>176560</td>\n",
       "      <td>Wired Headphones</td>\n",
       "      <td>1</td>\n",
       "      <td>11.99</td>\n",
       "      <td>2019-04-12 14:38:00</td>\n",
       "      <td>669 Spruce St, Los Angeles, CA 90001</td>\n",
       "      <td>April</td>\n",
       "      <td>Friday</td>\n",
       "      <td>04</td>\n",
       "      <td>11.99</td>\n",
       "      <td>Los Angeles</td>\n",
       "    </tr>\n",
       "    <tr>\n",
       "      <th>5</th>\n",
       "      <td>176561</td>\n",
       "      <td>Wired Headphones</td>\n",
       "      <td>1</td>\n",
       "      <td>11.99</td>\n",
       "      <td>2019-04-30 09:27:00</td>\n",
       "      <td>333 8th St, Los Angeles, CA 90001</td>\n",
       "      <td>April</td>\n",
       "      <td>Tuesday</td>\n",
       "      <td>04</td>\n",
       "      <td>11.99</td>\n",
       "      <td>Los Angeles</td>\n",
       "    </tr>\n",
       "  </tbody>\n",
       "</table>\n",
       "</div>"
      ],
      "text/plain": [
       "  Order ID                     Product  Quantity Ordered  Price Each  \\\n",
       "0   176558        USB-C Charging Cable                 2       11.95   \n",
       "2   176559  Bose SoundSport Headphones                 1       99.99   \n",
       "3   176560                Google Phone                 1      600.00   \n",
       "4   176560            Wired Headphones                 1       11.99   \n",
       "5   176561            Wired Headphones                 1       11.99   \n",
       "\n",
       "           Order Date                      Purchase Address Order Month  \\\n",
       "0 2019-04-19 08:46:00          917 1st St, Dallas, TX 75001       April   \n",
       "2 2019-04-07 22:30:00     682 Chestnut St, Boston, MA 02215       April   \n",
       "3 2019-04-12 14:38:00  669 Spruce St, Los Angeles, CA 90001       April   \n",
       "4 2019-04-12 14:38:00  669 Spruce St, Los Angeles, CA 90001       April   \n",
       "5 2019-04-30 09:27:00     333 8th St, Los Angeles, CA 90001       April   \n",
       "\n",
       "  Order Week_Day Order Month_num  Price Total Purchase City  \n",
       "0         Friday              04        23.90        Dallas  \n",
       "2         Sunday              04        99.99        Boston  \n",
       "3         Friday              04       600.00   Los Angeles  \n",
       "4         Friday              04        11.99   Los Angeles  \n",
       "5        Tuesday              04        11.99   Los Angeles  "
      ]
     },
     "execution_count": 32,
     "metadata": {},
     "output_type": "execute_result"
    }
   ],
   "source": [
    "df.head()"
   ]
  },
  {
   "cell_type": "markdown",
   "id": "691a8462-8125-49f5-8009-5e37d1a71dbb",
   "metadata": {},
   "source": [
    "Como podem existir cidades com o mesmo nome em diferentes estados, vamos criar uma coluna com a sigla de cada estado, diferenciando as cidades."
   ]
  },
  {
   "cell_type": "code",
   "execution_count": 33,
   "id": "95880dce-d498-457e-aca1-fc5ca833ee76",
   "metadata": {},
   "outputs": [],
   "source": [
    "def get_state(txt):\n",
    "    return txt.split(',')[2][0:3].lstrip()"
   ]
  },
  {
   "cell_type": "code",
   "execution_count": 34,
   "id": "8d870dee-c454-45d1-bdf1-4ad6ec1e1810",
   "metadata": {},
   "outputs": [
    {
     "data": {
      "text/plain": [
       "'TX'"
      ]
     },
     "execution_count": 34,
     "metadata": {},
     "output_type": "execute_result"
    }
   ],
   "source": [
    "get_state('917 1st St, Dallas, TX 75001')"
   ]
  },
  {
   "cell_type": "code",
   "execution_count": 35,
   "id": "95e27aed-80d1-40c8-9ef8-d0c90c471277",
   "metadata": {},
   "outputs": [],
   "source": [
    "#aplicando no dataframe\n",
    "df['Purchase State'] = df['Purchase Address'].apply(get_state)"
   ]
  },
  {
   "cell_type": "code",
   "execution_count": 36,
   "id": "79fbb8aa-93c3-4fdb-b605-2b9083258592",
   "metadata": {},
   "outputs": [
    {
     "data": {
      "text/html": [
       "<div>\n",
       "<style scoped>\n",
       "    .dataframe tbody tr th:only-of-type {\n",
       "        vertical-align: middle;\n",
       "    }\n",
       "\n",
       "    .dataframe tbody tr th {\n",
       "        vertical-align: top;\n",
       "    }\n",
       "\n",
       "    .dataframe thead th {\n",
       "        text-align: right;\n",
       "    }\n",
       "</style>\n",
       "<table border=\"1\" class=\"dataframe\">\n",
       "  <thead>\n",
       "    <tr style=\"text-align: right;\">\n",
       "      <th></th>\n",
       "      <th>Order ID</th>\n",
       "      <th>Product</th>\n",
       "      <th>Quantity Ordered</th>\n",
       "      <th>Price Each</th>\n",
       "      <th>Order Date</th>\n",
       "      <th>Purchase Address</th>\n",
       "      <th>Order Month</th>\n",
       "      <th>Order Week_Day</th>\n",
       "      <th>Order Month_num</th>\n",
       "      <th>Price Total</th>\n",
       "      <th>Purchase City</th>\n",
       "      <th>Purchase State</th>\n",
       "    </tr>\n",
       "  </thead>\n",
       "  <tbody>\n",
       "    <tr>\n",
       "      <th>0</th>\n",
       "      <td>176558</td>\n",
       "      <td>USB-C Charging Cable</td>\n",
       "      <td>2</td>\n",
       "      <td>11.95</td>\n",
       "      <td>2019-04-19 08:46:00</td>\n",
       "      <td>917 1st St, Dallas, TX 75001</td>\n",
       "      <td>April</td>\n",
       "      <td>Friday</td>\n",
       "      <td>04</td>\n",
       "      <td>23.90</td>\n",
       "      <td>Dallas</td>\n",
       "      <td>TX</td>\n",
       "    </tr>\n",
       "    <tr>\n",
       "      <th>2</th>\n",
       "      <td>176559</td>\n",
       "      <td>Bose SoundSport Headphones</td>\n",
       "      <td>1</td>\n",
       "      <td>99.99</td>\n",
       "      <td>2019-04-07 22:30:00</td>\n",
       "      <td>682 Chestnut St, Boston, MA 02215</td>\n",
       "      <td>April</td>\n",
       "      <td>Sunday</td>\n",
       "      <td>04</td>\n",
       "      <td>99.99</td>\n",
       "      <td>Boston</td>\n",
       "      <td>MA</td>\n",
       "    </tr>\n",
       "    <tr>\n",
       "      <th>3</th>\n",
       "      <td>176560</td>\n",
       "      <td>Google Phone</td>\n",
       "      <td>1</td>\n",
       "      <td>600.00</td>\n",
       "      <td>2019-04-12 14:38:00</td>\n",
       "      <td>669 Spruce St, Los Angeles, CA 90001</td>\n",
       "      <td>April</td>\n",
       "      <td>Friday</td>\n",
       "      <td>04</td>\n",
       "      <td>600.00</td>\n",
       "      <td>Los Angeles</td>\n",
       "      <td>CA</td>\n",
       "    </tr>\n",
       "    <tr>\n",
       "      <th>4</th>\n",
       "      <td>176560</td>\n",
       "      <td>Wired Headphones</td>\n",
       "      <td>1</td>\n",
       "      <td>11.99</td>\n",
       "      <td>2019-04-12 14:38:00</td>\n",
       "      <td>669 Spruce St, Los Angeles, CA 90001</td>\n",
       "      <td>April</td>\n",
       "      <td>Friday</td>\n",
       "      <td>04</td>\n",
       "      <td>11.99</td>\n",
       "      <td>Los Angeles</td>\n",
       "      <td>CA</td>\n",
       "    </tr>\n",
       "    <tr>\n",
       "      <th>5</th>\n",
       "      <td>176561</td>\n",
       "      <td>Wired Headphones</td>\n",
       "      <td>1</td>\n",
       "      <td>11.99</td>\n",
       "      <td>2019-04-30 09:27:00</td>\n",
       "      <td>333 8th St, Los Angeles, CA 90001</td>\n",
       "      <td>April</td>\n",
       "      <td>Tuesday</td>\n",
       "      <td>04</td>\n",
       "      <td>11.99</td>\n",
       "      <td>Los Angeles</td>\n",
       "      <td>CA</td>\n",
       "    </tr>\n",
       "  </tbody>\n",
       "</table>\n",
       "</div>"
      ],
      "text/plain": [
       "  Order ID                     Product  Quantity Ordered  Price Each  \\\n",
       "0   176558        USB-C Charging Cable                 2       11.95   \n",
       "2   176559  Bose SoundSport Headphones                 1       99.99   \n",
       "3   176560                Google Phone                 1      600.00   \n",
       "4   176560            Wired Headphones                 1       11.99   \n",
       "5   176561            Wired Headphones                 1       11.99   \n",
       "\n",
       "           Order Date                      Purchase Address Order Month  \\\n",
       "0 2019-04-19 08:46:00          917 1st St, Dallas, TX 75001       April   \n",
       "2 2019-04-07 22:30:00     682 Chestnut St, Boston, MA 02215       April   \n",
       "3 2019-04-12 14:38:00  669 Spruce St, Los Angeles, CA 90001       April   \n",
       "4 2019-04-12 14:38:00  669 Spruce St, Los Angeles, CA 90001       April   \n",
       "5 2019-04-30 09:27:00     333 8th St, Los Angeles, CA 90001       April   \n",
       "\n",
       "  Order Week_Day Order Month_num  Price Total Purchase City Purchase State  \n",
       "0         Friday              04        23.90        Dallas             TX  \n",
       "2         Sunday              04        99.99        Boston             MA  \n",
       "3         Friday              04       600.00   Los Angeles             CA  \n",
       "4         Friday              04        11.99   Los Angeles             CA  \n",
       "5        Tuesday              04        11.99   Los Angeles             CA  "
      ]
     },
     "execution_count": 36,
     "metadata": {},
     "output_type": "execute_result"
    }
   ],
   "source": [
    "df.head()"
   ]
  },
  {
   "cell_type": "markdown",
   "id": "e8a2bd67-4fce-46a2-9578-92c658c62417",
   "metadata": {},
   "source": [
    "Agora, podemos verificar a cidade com mais vendas"
   ]
  },
  {
   "cell_type": "code",
   "execution_count": 37,
   "id": "beb35e55-6c96-4aba-93d3-92e147ca5d39",
   "metadata": {},
   "outputs": [
    {
     "data": {
      "text/html": [
       "<div>\n",
       "<style scoped>\n",
       "    .dataframe tbody tr th:only-of-type {\n",
       "        vertical-align: middle;\n",
       "    }\n",
       "\n",
       "    .dataframe tbody tr th {\n",
       "        vertical-align: top;\n",
       "    }\n",
       "\n",
       "    .dataframe thead th {\n",
       "        text-align: right;\n",
       "    }\n",
       "</style>\n",
       "<table border=\"1\" class=\"dataframe\">\n",
       "  <thead>\n",
       "    <tr style=\"text-align: right;\">\n",
       "      <th></th>\n",
       "      <th></th>\n",
       "      <th>Price Total</th>\n",
       "    </tr>\n",
       "    <tr>\n",
       "      <th>Purchase State</th>\n",
       "      <th>Purchase City</th>\n",
       "      <th></th>\n",
       "    </tr>\n",
       "  </thead>\n",
       "  <tbody>\n",
       "    <tr>\n",
       "      <th rowspan=\"2\" valign=\"top\">CA</th>\n",
       "      <th>San Francisco</th>\n",
       "      <td>8262203.91</td>\n",
       "    </tr>\n",
       "    <tr>\n",
       "      <th>Los Angeles</th>\n",
       "      <td>5452570.80</td>\n",
       "    </tr>\n",
       "    <tr>\n",
       "      <th>NY</th>\n",
       "      <th>New York City</th>\n",
       "      <td>4664317.43</td>\n",
       "    </tr>\n",
       "    <tr>\n",
       "      <th>MA</th>\n",
       "      <th>Boston</th>\n",
       "      <td>3661642.01</td>\n",
       "    </tr>\n",
       "    <tr>\n",
       "      <th>GA</th>\n",
       "      <th>Atlanta</th>\n",
       "      <td>2795498.58</td>\n",
       "    </tr>\n",
       "    <tr>\n",
       "      <th>TX</th>\n",
       "      <th>Dallas</th>\n",
       "      <td>2767975.40</td>\n",
       "    </tr>\n",
       "    <tr>\n",
       "      <th>WA</th>\n",
       "      <th>Seattle</th>\n",
       "      <td>2747755.48</td>\n",
       "    </tr>\n",
       "    <tr>\n",
       "      <th>OR</th>\n",
       "      <th>Portland</th>\n",
       "      <td>1870732.34</td>\n",
       "    </tr>\n",
       "    <tr>\n",
       "      <th>TX</th>\n",
       "      <th>Austin</th>\n",
       "      <td>1819581.75</td>\n",
       "    </tr>\n",
       "    <tr>\n",
       "      <th>ME</th>\n",
       "      <th>Portland</th>\n",
       "      <td>449758.27</td>\n",
       "    </tr>\n",
       "  </tbody>\n",
       "</table>\n",
       "</div>"
      ],
      "text/plain": [
       "                              Price Total\n",
       "Purchase State Purchase City             \n",
       "CA             San Francisco   8262203.91\n",
       "               Los Angeles     5452570.80\n",
       "NY             New York City   4664317.43\n",
       "MA             Boston          3661642.01\n",
       "GA             Atlanta         2795498.58\n",
       "TX             Dallas          2767975.40\n",
       "WA             Seattle         2747755.48\n",
       "OR             Portland        1870732.34\n",
       "TX             Austin          1819581.75\n",
       "ME             Portland         449758.27"
      ]
     },
     "execution_count": 37,
     "metadata": {},
     "output_type": "execute_result"
    }
   ],
   "source": [
    "city_sale = df.groupby(['Purchase State','Purchase City'])[['Price Total']].sum().sort_values(by = 'Price Total', ascending = False)\n",
    "city_sale"
   ]
  },
  {
   "cell_type": "markdown",
   "id": "ea5b2f1b-6221-4f00-b7c3-f46e2adbdb95",
   "metadata": {},
   "source": [
    "Com isso, verificamos que a cidade com maior numero de vendas foi San Francisco, com $8.262.203,91. E verificamos que existe uma cidade de Portland no estado do Maine e outra no estado do Oregon."
   ]
  },
  {
   "cell_type": "code",
   "execution_count": 38,
   "id": "0ba2083e-239f-4385-a763-479dfaf318a4",
   "metadata": {},
   "outputs": [
    {
     "data": {
      "text/plain": [
       "<Axes: xlabel='Purchase State,Purchase City'>"
      ]
     },
     "execution_count": 38,
     "metadata": {},
     "output_type": "execute_result"
    },
    {
     "data": {
      "image/png": "[encoded data removed]",
      "text/plain": [
       "<Figure size 640x480 with 1 Axes>"
      ]
     },
     "metadata": {},
     "output_type": "display_data"
    }
   ],
   "source": [
    "city_sale.plot.bar()"
   ]
  },
  {
   "cell_type": "markdown",
   "id": "900b7f96-76cc-472e-aa93-41d6e3c00fe7",
   "metadata": {},
   "source": [
    "#### Pergunta 3: Visando melhorar as vendas, qual o melhor horário para campanhas de marketing e anúncio de produtos? (Qual o melhor horário para vendas?)"
   ]
  },
  {
   "cell_type": "markdown",
   "id": "9902f23b-40b6-4c7a-bee4-2b2c1d8df312",
   "metadata": {},
   "source": [
    "Inicialmente, precisamos criar uma coluna com a hora do dia. Como já transformamos a coluna Order Date para o formato datetime, podemos criar a coluna de hora."
   ]
  },
  {
   "cell_type": "code",
   "execution_count": 39,
   "id": "fa9183b3-d684-491b-89d4-0ba5630f7a42",
   "metadata": {},
   "outputs": [],
   "source": [
    "df['Order Hour'] = df['Order Date'].dt.strftime('%H')"
   ]
  },
  {
   "cell_type": "code",
   "execution_count": 40,
   "id": "1cdef427-0a6b-4e51-8997-1259242a0c1d",
   "metadata": {},
   "outputs": [
    {
     "data": {
      "text/html": [
       "<div>\n",
       "<style scoped>\n",
       "    .dataframe tbody tr th:only-of-type {\n",
       "        vertical-align: middle;\n",
       "    }\n",
       "\n",
       "    .dataframe tbody tr th {\n",
       "        vertical-align: top;\n",
       "    }\n",
       "\n",
       "    .dataframe thead th {\n",
       "        text-align: right;\n",
       "    }\n",
       "</style>\n",
       "<table border=\"1\" class=\"dataframe\">\n",
       "  <thead>\n",
       "    <tr style=\"text-align: right;\">\n",
       "      <th></th>\n",
       "      <th>Order ID</th>\n",
       "      <th>Product</th>\n",
       "      <th>Quantity Ordered</th>\n",
       "      <th>Price Each</th>\n",
       "      <th>Order Date</th>\n",
       "      <th>Purchase Address</th>\n",
       "      <th>Order Month</th>\n",
       "      <th>Order Week_Day</th>\n",
       "      <th>Order Month_num</th>\n",
       "      <th>Price Total</th>\n",
       "      <th>Purchase City</th>\n",
       "      <th>Purchase State</th>\n",
       "      <th>Order Hour</th>\n",
       "    </tr>\n",
       "  </thead>\n",
       "  <tbody>\n",
       "    <tr>\n",
       "      <th>0</th>\n",
       "      <td>176558</td>\n",
       "      <td>USB-C Charging Cable</td>\n",
       "      <td>2</td>\n",
       "      <td>11.95</td>\n",
       "      <td>2019-04-19 08:46:00</td>\n",
       "      <td>917 1st St, Dallas, TX 75001</td>\n",
       "      <td>April</td>\n",
       "      <td>Friday</td>\n",
       "      <td>04</td>\n",
       "      <td>23.90</td>\n",
       "      <td>Dallas</td>\n",
       "      <td>TX</td>\n",
       "      <td>08</td>\n",
       "    </tr>\n",
       "    <tr>\n",
       "      <th>2</th>\n",
       "      <td>176559</td>\n",
       "      <td>Bose SoundSport Headphones</td>\n",
       "      <td>1</td>\n",
       "      <td>99.99</td>\n",
       "      <td>2019-04-07 22:30:00</td>\n",
       "      <td>682 Chestnut St, Boston, MA 02215</td>\n",
       "      <td>April</td>\n",
       "      <td>Sunday</td>\n",
       "      <td>04</td>\n",
       "      <td>99.99</td>\n",
       "      <td>Boston</td>\n",
       "      <td>MA</td>\n",
       "      <td>22</td>\n",
       "    </tr>\n",
       "    <tr>\n",
       "      <th>3</th>\n",
       "      <td>176560</td>\n",
       "      <td>Google Phone</td>\n",
       "      <td>1</td>\n",
       "      <td>600.00</td>\n",
       "      <td>2019-04-12 14:38:00</td>\n",
       "      <td>669 Spruce St, Los Angeles, CA 90001</td>\n",
       "      <td>April</td>\n",
       "      <td>Friday</td>\n",
       "      <td>04</td>\n",
       "      <td>600.00</td>\n",
       "      <td>Los Angeles</td>\n",
       "      <td>CA</td>\n",
       "      <td>14</td>\n",
       "    </tr>\n",
       "    <tr>\n",
       "      <th>4</th>\n",
       "      <td>176560</td>\n",
       "      <td>Wired Headphones</td>\n",
       "      <td>1</td>\n",
       "      <td>11.99</td>\n",
       "      <td>2019-04-12 14:38:00</td>\n",
       "      <td>669 Spruce St, Los Angeles, CA 90001</td>\n",
       "      <td>April</td>\n",
       "      <td>Friday</td>\n",
       "      <td>04</td>\n",
       "      <td>11.99</td>\n",
       "      <td>Los Angeles</td>\n",
       "      <td>CA</td>\n",
       "      <td>14</td>\n",
       "    </tr>\n",
       "    <tr>\n",
       "      <th>5</th>\n",
       "      <td>176561</td>\n",
       "      <td>Wired Headphones</td>\n",
       "      <td>1</td>\n",
       "      <td>11.99</td>\n",
       "      <td>2019-04-30 09:27:00</td>\n",
       "      <td>333 8th St, Los Angeles, CA 90001</td>\n",
       "      <td>April</td>\n",
       "      <td>Tuesday</td>\n",
       "      <td>04</td>\n",
       "      <td>11.99</td>\n",
       "      <td>Los Angeles</td>\n",
       "      <td>CA</td>\n",
       "      <td>09</td>\n",
       "    </tr>\n",
       "  </tbody>\n",
       "</table>\n",
       "</div>"
      ],
      "text/plain": [
       "  Order ID                     Product  Quantity Ordered  Price Each  \\\n",
       "0   176558        USB-C Charging Cable                 2       11.95   \n",
       "2   176559  Bose SoundSport Headphones                 1       99.99   \n",
       "3   176560                Google Phone                 1      600.00   \n",
       "4   176560            Wired Headphones                 1       11.99   \n",
       "5   176561            Wired Headphones                 1       11.99   \n",
       "\n",
       "           Order Date                      Purchase Address Order Month  \\\n",
       "0 2019-04-19 08:46:00          917 1st St, Dallas, TX 75001       April   \n",
       "2 2019-04-07 22:30:00     682 Chestnut St, Boston, MA 02215       April   \n",
       "3 2019-04-12 14:38:00  669 Spruce St, Los Angeles, CA 90001       April   \n",
       "4 2019-04-12 14:38:00  669 Spruce St, Los Angeles, CA 90001       April   \n",
       "5 2019-04-30 09:27:00     333 8th St, Los Angeles, CA 90001       April   \n",
       "\n",
       "  Order Week_Day Order Month_num  Price Total Purchase City Purchase State  \\\n",
       "0         Friday              04        23.90        Dallas             TX   \n",
       "2         Sunday              04        99.99        Boston             MA   \n",
       "3         Friday              04       600.00   Los Angeles             CA   \n",
       "4         Friday              04        11.99   Los Angeles             CA   \n",
       "5        Tuesday              04        11.99   Los Angeles             CA   \n",
       "\n",
       "  Order Hour  \n",
       "0         08  \n",
       "2         22  \n",
       "3         14  \n",
       "4         14  \n",
       "5         09  "
      ]
     },
     "execution_count": 40,
     "metadata": {},
     "output_type": "execute_result"
    }
   ],
   "source": [
    "df.head()"
   ]
  },
  {
   "cell_type": "markdown",
   "id": "7ff57636-9bdd-4bdd-8e6c-d00e250e3f13",
   "metadata": {},
   "source": [
    "Agora, vamos agrupar as quantidade vendida pela hora do dia"
   ]
  },
  {
   "cell_type": "code",
   "execution_count": 41,
   "id": "5355c222-9153-4499-8c1a-b7f488d23bfc",
   "metadata": {},
   "outputs": [
    {
     "data": {
      "text/html": [
       "<div>\n",
       "<style scoped>\n",
       "    .dataframe tbody tr th:only-of-type {\n",
       "        vertical-align: middle;\n",
       "    }\n",
       "\n",
       "    .dataframe tbody tr th {\n",
       "        vertical-align: top;\n",
       "    }\n",
       "\n",
       "    .dataframe thead th {\n",
       "        text-align: right;\n",
       "    }\n",
       "</style>\n",
       "<table border=\"1\" class=\"dataframe\">\n",
       "  <thead>\n",
       "    <tr style=\"text-align: right;\">\n",
       "      <th></th>\n",
       "      <th>Quantity Ordered</th>\n",
       "    </tr>\n",
       "    <tr>\n",
       "      <th>Order Hour</th>\n",
       "      <th></th>\n",
       "    </tr>\n",
       "  </thead>\n",
       "  <tbody>\n",
       "    <tr>\n",
       "      <th>00</th>\n",
       "      <td>4428</td>\n",
       "    </tr>\n",
       "    <tr>\n",
       "      <th>01</th>\n",
       "      <td>2619</td>\n",
       "    </tr>\n",
       "    <tr>\n",
       "      <th>02</th>\n",
       "      <td>1398</td>\n",
       "    </tr>\n",
       "    <tr>\n",
       "      <th>03</th>\n",
       "      <td>928</td>\n",
       "    </tr>\n",
       "    <tr>\n",
       "      <th>04</th>\n",
       "      <td>937</td>\n",
       "    </tr>\n",
       "  </tbody>\n",
       "</table>\n",
       "</div>"
      ],
      "text/plain": [
       "            Quantity Ordered\n",
       "Order Hour                  \n",
       "00                      4428\n",
       "01                      2619\n",
       "02                      1398\n",
       "03                       928\n",
       "04                       937"
      ]
     },
     "execution_count": 41,
     "metadata": {},
     "output_type": "execute_result"
    }
   ],
   "source": [
    "hour_sale = df.groupby(['Order Hour'])[['Quantity Ordered']].sum().sort_values(by = 'Order Hour')\n",
    "hour_sale.head()"
   ]
  },
  {
   "cell_type": "code",
   "execution_count": 42,
   "id": "7add0f4e-6a20-4767-ac6f-c8d2ca1642e5",
   "metadata": {},
   "outputs": [
    {
     "data": {
      "image/png": "[encoded data removed]",
      "text/plain": [
       "<Figure size 640x480 with 1 Axes>"
      ]
     },
     "metadata": {},
     "output_type": "display_data"
    }
   ],
   "source": [
    "hours = [hour for hour, df in df.groupby('Order Hour')] #cria uma lista com as\n",
    "#horas ordenadas. É necessário senão a ordem das horas do gráfico será a ordem\n",
    "#em que aparececem no DataFrame\n",
    "\n",
    "plt.plot(hours,df.groupby(['Order Hour']).count())\n",
    "plt.xticks(hours)\n",
    "plt.xlabel('Hour')\n",
    "plt.ylabel('Quantity Ordered')\n",
    "plt.grid()\n",
    "plt.show()"
   ]
  },
  {
   "cell_type": "markdown",
   "id": "11c92aa4-665c-45d2-958c-5d864ebd2588",
   "metadata": {},
   "source": [
    "Podemos observar que a hora com maior quantidade de vendas é em torno de 19h, seguido do intervalo entre 11h e 12h. Esses seriam horários indicados para realização de propagandas e publicações promocionais."
   ]
  },
  {
   "cell_type": "markdown",
   "id": "9ca0bd01-8a50-45e3-818a-4e1158cb8545",
   "metadata": {},
   "source": [
    "#### Pergunta 4: Quais produtos são comumente vendidos juntos?"
   ]
  },
  {
   "cell_type": "markdown",
   "id": "cdedd2bb-b93c-431f-8191-28d05a5d390f",
   "metadata": {},
   "source": [
    "Inicialmente, vamos separar os itens que foram comprados na mesma Order ID"
   ]
  },
  {
   "cell_type": "code",
   "execution_count": 43,
   "id": "98056765-42f0-4393-b09b-e631d392c307",
   "metadata": {},
   "outputs": [
    {
     "data": {
      "text/plain": [
       "[['iPhone',\n",
       "  'Lightning Charging Cable',\n",
       "  'Apple Airpods Headphones',\n",
       "  'Wired Headphones',\n",
       "  'Google Phone'],\n",
       " ['Google Phone',\n",
       "  'USB-C Charging Cable',\n",
       "  'Wired Headphones',\n",
       "  'AA Batteries (4-pack)'],\n",
       " ['Google Phone',\n",
       "  'USB-C Charging Cable',\n",
       "  'Wired Headphones',\n",
       "  'USB-C Charging Cable'],\n",
       " ['Google Phone',\n",
       "  'USB-C Charging Cable',\n",
       "  'Bose SoundSport Headphones',\n",
       "  'Wired Headphones'],\n",
       " ['iPhone',\n",
       "  'Lightning Charging Cable',\n",
       "  'Wired Headphones',\n",
       "  'USB-C Charging Cable'],\n",
       " ['Google Phone',\n",
       "  'USB-C Charging Cable',\n",
       "  'Bose SoundSport Headphones',\n",
       "  'Wired Headphones'],\n",
       " ['iPhone',\n",
       "  'Lightning Charging Cable',\n",
       "  'Apple Airpods Headphones',\n",
       "  'Wired Headphones'],\n",
       " ['Google Phone',\n",
       "  'USB-C Charging Cable',\n",
       "  'Wired Headphones',\n",
       "  'Wired Headphones'],\n",
       " ['Google Phone',\n",
       "  'USB-C Charging Cable',\n",
       "  'Wired Headphones',\n",
       "  '27in FHD Monitor'],\n",
       " ['iPhone',\n",
       "  'Lightning Charging Cable',\n",
       "  'Apple Airpods Headphones',\n",
       "  'Wired Headphones']]"
      ]
     },
     "execution_count": 43,
     "metadata": {},
     "output_type": "execute_result"
    }
   ],
   "source": [
    "df_product_list = df.groupby('Order ID')['Product'].apply(list).to_frame()\n",
    "list_prod = sorted(df_product_list['Product'], key=len, reverse=True)\n",
    "list_prod[:10]"
   ]
  },
  {
   "cell_type": "markdown",
   "id": "2f6c84a2-b5ae-46c9-b70b-299d160fae43",
   "metadata": {},
   "source": [
    "Em seguida, vamos contar a ocorrencia dos pares de itens comprados juntos."
   ]
  },
  {
   "cell_type": "code",
   "execution_count": 44,
   "id": "926819e8-039f-4273-b371-709e0e1b8929",
   "metadata": {},
   "outputs": [
    {
     "name": "stdout",
     "output_type": "stream",
     "text": [
      "[(('Lightning Charging Cable', 'iPhone'), 1015), (('Google Phone', 'USB-C Charging Cable'), 999), (('Wired Headphones', 'iPhone'), 462), (('Google Phone', 'Wired Headphones'), 423), (('Apple Airpods Headphones', 'iPhone'), 373), (('USB-C Charging Cable', 'Vareebadd Phone'), 368), (('Bose SoundSport Headphones', 'Google Phone'), 228), (('USB-C Charging Cable', 'Wired Headphones'), 205), (('Vareebadd Phone', 'Wired Headphones'), 149), (('Lightning Charging Cable', 'Wired Headphones'), 129)]\n"
     ]
    }
   ],
   "source": [
    "d = Counter()\n",
    "for sub in list_prod:\n",
    "    if len(list_prod) < 2:\n",
    "        continue\n",
    "    sub.sort()\n",
    "    for comb in combinations(sub,2):\n",
    "        d[comb] += 1\n",
    "\n",
    "print(d.most_common()[:10])"
   ]
  },
  {
   "cell_type": "markdown",
   "id": "f9ce1caa-5479-45d8-86f1-239a9a2b8dbc",
   "metadata": {},
   "source": [
    "Assim, podemos ver que telefones e carregadores são os itens são os itens mais comumente vendidos juntos (Lightning Charging Cable e iPhone; Google Phone USB-C Charging Cable), seguidos de telefones e headphones (Wired Headphones e iPhone; Google Phone e Wired Headphones; Apple Airpods Headphones e iPhone)."
   ]
  },
  {
   "cell_type": "markdown",
   "id": "6e6b1aca-7c5c-44b6-879f-89f2532cd8eb",
   "metadata": {},
   "source": [
    "#### Pergunta 5: Que produto vendeu mais? Pode ver algum motivo porqu este produto foi mais vendido?"
   ]
  },
  {
   "cell_type": "code",
   "execution_count": 45,
   "id": "e64a359c-7909-4ea8-9c11-36e620840cb3",
   "metadata": {},
   "outputs": [
    {
     "data": {
      "text/html": [
       "<div>\n",
       "<style scoped>\n",
       "    .dataframe tbody tr th:only-of-type {\n",
       "        vertical-align: middle;\n",
       "    }\n",
       "\n",
       "    .dataframe tbody tr th {\n",
       "        vertical-align: top;\n",
       "    }\n",
       "\n",
       "    .dataframe thead th {\n",
       "        text-align: right;\n",
       "    }\n",
       "</style>\n",
       "<table border=\"1\" class=\"dataframe\">\n",
       "  <thead>\n",
       "    <tr style=\"text-align: right;\">\n",
       "      <th></th>\n",
       "      <th>Quantity Ordered</th>\n",
       "    </tr>\n",
       "    <tr>\n",
       "      <th>Product</th>\n",
       "      <th></th>\n",
       "    </tr>\n",
       "  </thead>\n",
       "  <tbody>\n",
       "    <tr>\n",
       "      <th>AAA Batteries (4-pack)</th>\n",
       "      <td>31017</td>\n",
       "    </tr>\n",
       "    <tr>\n",
       "      <th>AA Batteries (4-pack)</th>\n",
       "      <td>27635</td>\n",
       "    </tr>\n",
       "    <tr>\n",
       "      <th>USB-C Charging Cable</th>\n",
       "      <td>23975</td>\n",
       "    </tr>\n",
       "    <tr>\n",
       "      <th>Lightning Charging Cable</th>\n",
       "      <td>23217</td>\n",
       "    </tr>\n",
       "    <tr>\n",
       "      <th>Wired Headphones</th>\n",
       "      <td>20557</td>\n",
       "    </tr>\n",
       "    <tr>\n",
       "      <th>Apple Airpods Headphones</th>\n",
       "      <td>15661</td>\n",
       "    </tr>\n",
       "    <tr>\n",
       "      <th>Bose SoundSport Headphones</th>\n",
       "      <td>13457</td>\n",
       "    </tr>\n",
       "    <tr>\n",
       "      <th>27in FHD Monitor</th>\n",
       "      <td>7550</td>\n",
       "    </tr>\n",
       "    <tr>\n",
       "      <th>iPhone</th>\n",
       "      <td>6849</td>\n",
       "    </tr>\n",
       "    <tr>\n",
       "      <th>27in 4K Gaming Monitor</th>\n",
       "      <td>6244</td>\n",
       "    </tr>\n",
       "    <tr>\n",
       "      <th>34in Ultrawide Monitor</th>\n",
       "      <td>6199</td>\n",
       "    </tr>\n",
       "    <tr>\n",
       "      <th>Google Phone</th>\n",
       "      <td>5532</td>\n",
       "    </tr>\n",
       "    <tr>\n",
       "      <th>Flatscreen TV</th>\n",
       "      <td>4819</td>\n",
       "    </tr>\n",
       "    <tr>\n",
       "      <th>Macbook Pro Laptop</th>\n",
       "      <td>4728</td>\n",
       "    </tr>\n",
       "    <tr>\n",
       "      <th>ThinkPad Laptop</th>\n",
       "      <td>4130</td>\n",
       "    </tr>\n",
       "    <tr>\n",
       "      <th>20in Monitor</th>\n",
       "      <td>4129</td>\n",
       "    </tr>\n",
       "    <tr>\n",
       "      <th>Vareebadd Phone</th>\n",
       "      <td>2068</td>\n",
       "    </tr>\n",
       "    <tr>\n",
       "      <th>LG Washing Machine</th>\n",
       "      <td>666</td>\n",
       "    </tr>\n",
       "    <tr>\n",
       "      <th>LG Dryer</th>\n",
       "      <td>646</td>\n",
       "    </tr>\n",
       "  </tbody>\n",
       "</table>\n",
       "</div>"
      ],
      "text/plain": [
       "                            Quantity Ordered\n",
       "Product                                     \n",
       "AAA Batteries (4-pack)                 31017\n",
       "AA Batteries (4-pack)                  27635\n",
       "USB-C Charging Cable                   23975\n",
       "Lightning Charging Cable               23217\n",
       "Wired Headphones                       20557\n",
       "Apple Airpods Headphones               15661\n",
       "Bose SoundSport Headphones             13457\n",
       "27in FHD Monitor                        7550\n",
       "iPhone                                  6849\n",
       "27in 4K Gaming Monitor                  6244\n",
       "34in Ultrawide Monitor                  6199\n",
       "Google Phone                            5532\n",
       "Flatscreen TV                           4819\n",
       "Macbook Pro Laptop                      4728\n",
       "ThinkPad Laptop                         4130\n",
       "20in Monitor                            4129\n",
       "Vareebadd Phone                         2068\n",
       "LG Washing Machine                       666\n",
       "LG Dryer                                 646"
      ]
     },
     "execution_count": 45,
     "metadata": {},
     "output_type": "execute_result"
    }
   ],
   "source": [
    "most_sale = df.groupby(['Product'])[['Quantity Ordered']].sum().sort_values(by = 'Quantity Ordered', ascending = False)\n",
    "most_sale"
   ]
  },
  {
   "cell_type": "code",
   "execution_count": 46,
   "id": "df5decdc-08ee-41b9-a8c2-a9a9bcf4aef3",
   "metadata": {},
   "outputs": [
    {
     "data": {
      "text/plain": [
       "<Axes: xlabel='Product'>"
      ]
     },
     "execution_count": 46,
     "metadata": {},
     "output_type": "execute_result"
    },
    {
     "data": {
      "image/png": "[encoded data removed]",
      "text/plain": [
       "<Figure size 640x480 with 1 Axes>"
      ]
     },
     "metadata": {},
     "output_type": "display_data"
    }
   ],
   "source": [
    "most_sale.plot.bar()"
   ]
  },
  {
   "cell_type": "markdown",
   "id": "6b8d9757-96da-47e7-acc8-1db36b3755c7",
   "metadata": {},
   "source": [
    "Observamos que baterias AAA e AA são as mais vendidas. Possivelmente pois são amplamente utilizados e baratos. Podemos verificar os preços individuais."
   ]
  },
  {
   "cell_type": "code",
   "execution_count": 47,
   "id": "34b4e75f-ca62-408d-b7e1-40b8e5691b09",
   "metadata": {},
   "outputs": [
    {
     "data": {
      "text/html": [
       "<div>\n",
       "<style scoped>\n",
       "    .dataframe tbody tr th:only-of-type {\n",
       "        vertical-align: middle;\n",
       "    }\n",
       "\n",
       "    .dataframe tbody tr th {\n",
       "        vertical-align: top;\n",
       "    }\n",
       "\n",
       "    .dataframe thead th {\n",
       "        text-align: right;\n",
       "    }\n",
       "</style>\n",
       "<table border=\"1\" class=\"dataframe\">\n",
       "  <thead>\n",
       "    <tr style=\"text-align: right;\">\n",
       "      <th></th>\n",
       "      <th>Price Each</th>\n",
       "    </tr>\n",
       "    <tr>\n",
       "      <th>Product</th>\n",
       "      <th></th>\n",
       "    </tr>\n",
       "  </thead>\n",
       "  <tbody>\n",
       "    <tr>\n",
       "      <th>AAA Batteries (4-pack)</th>\n",
       "      <td>2.99</td>\n",
       "    </tr>\n",
       "    <tr>\n",
       "      <th>AA Batteries (4-pack)</th>\n",
       "      <td>3.84</td>\n",
       "    </tr>\n",
       "    <tr>\n",
       "      <th>USB-C Charging Cable</th>\n",
       "      <td>11.95</td>\n",
       "    </tr>\n",
       "    <tr>\n",
       "      <th>Wired Headphones</th>\n",
       "      <td>11.99</td>\n",
       "    </tr>\n",
       "    <tr>\n",
       "      <th>Lightning Charging Cable</th>\n",
       "      <td>14.95</td>\n",
       "    </tr>\n",
       "    <tr>\n",
       "      <th>Bose SoundSport Headphones</th>\n",
       "      <td>99.99</td>\n",
       "    </tr>\n",
       "    <tr>\n",
       "      <th>20in Monitor</th>\n",
       "      <td>109.99</td>\n",
       "    </tr>\n",
       "    <tr>\n",
       "      <th>27in FHD Monitor</th>\n",
       "      <td>149.99</td>\n",
       "    </tr>\n",
       "    <tr>\n",
       "      <th>Apple Airpods Headphones</th>\n",
       "      <td>150.00</td>\n",
       "    </tr>\n",
       "    <tr>\n",
       "      <th>Flatscreen TV</th>\n",
       "      <td>300.00</td>\n",
       "    </tr>\n",
       "    <tr>\n",
       "      <th>34in Ultrawide Monitor</th>\n",
       "      <td>379.99</td>\n",
       "    </tr>\n",
       "    <tr>\n",
       "      <th>27in 4K Gaming Monitor</th>\n",
       "      <td>389.99</td>\n",
       "    </tr>\n",
       "    <tr>\n",
       "      <th>Vareebadd Phone</th>\n",
       "      <td>400.00</td>\n",
       "    </tr>\n",
       "    <tr>\n",
       "      <th>Google Phone</th>\n",
       "      <td>600.00</td>\n",
       "    </tr>\n",
       "    <tr>\n",
       "      <th>LG Washing Machine</th>\n",
       "      <td>600.00</td>\n",
       "    </tr>\n",
       "    <tr>\n",
       "      <th>LG Dryer</th>\n",
       "      <td>600.00</td>\n",
       "    </tr>\n",
       "    <tr>\n",
       "      <th>iPhone</th>\n",
       "      <td>700.00</td>\n",
       "    </tr>\n",
       "    <tr>\n",
       "      <th>ThinkPad Laptop</th>\n",
       "      <td>999.99</td>\n",
       "    </tr>\n",
       "    <tr>\n",
       "      <th>Macbook Pro Laptop</th>\n",
       "      <td>1700.00</td>\n",
       "    </tr>\n",
       "  </tbody>\n",
       "</table>\n",
       "</div>"
      ],
      "text/plain": [
       "                            Price Each\n",
       "Product                               \n",
       "AAA Batteries (4-pack)            2.99\n",
       "AA Batteries (4-pack)             3.84\n",
       "USB-C Charging Cable             11.95\n",
       "Wired Headphones                 11.99\n",
       "Lightning Charging Cable         14.95\n",
       "Bose SoundSport Headphones       99.99\n",
       "20in Monitor                    109.99\n",
       "27in FHD Monitor                149.99\n",
       "Apple Airpods Headphones        150.00\n",
       "Flatscreen TV                   300.00\n",
       "34in Ultrawide Monitor          379.99\n",
       "27in 4K Gaming Monitor          389.99\n",
       "Vareebadd Phone                 400.00\n",
       "Google Phone                    600.00\n",
       "LG Washing Machine              600.00\n",
       "LG Dryer                        600.00\n",
       "iPhone                          700.00\n",
       "ThinkPad Laptop                 999.99\n",
       "Macbook Pro Laptop             1700.00"
      ]
     },
     "execution_count": 47,
     "metadata": {},
     "output_type": "execute_result"
    }
   ],
   "source": [
    "prod_price = df.groupby(['Product'])[['Price Each']].mean().sort_values(by = 'Price Each')\n",
    "prod_price"
   ]
  },
  {
   "cell_type": "code",
   "execution_count": 48,
   "id": "85e19a26-b8ed-4f24-8edb-d35925bac4b4",
   "metadata": {},
   "outputs": [
    {
     "data": {
      "text/plain": [
       "<matplotlib.legend.Legend at 0x20351a7c5e0>"
      ]
     },
     "execution_count": 48,
     "metadata": {},
     "output_type": "execute_result"
    },
    {
     "data": {
      "image/png": "[encoded data removed]",
      "text/plain": [
       "<Figure size 640x480 with 1 Axes>"
      ]
     },
     "metadata": {},
     "output_type": "display_data"
    }
   ],
   "source": [
    "products = prod_price.index\n",
    "plt.bar(products,prod_price['Price Each'], width = 0.8, label = 'Individual Price')\n",
    "plt.bar(products,most_sale['Quantity Ordered'], width = 0.5*0.8, alpha = 0.5, label = 'Quantity Ordered')\n",
    "plt.xticks(products, rotation = 'vertical', size = 8)\n",
    "plt.legend()"
   ]
  },
  {
   "cell_type": "code",
   "execution_count": 49,
   "id": "8d3261f2-0f30-4dfa-84eb-d6615b21805f",
   "metadata": {},
   "outputs": [
    {
     "data": {
      "image/png": "[encoded data removed]",
      "text/plain": [
       "<Figure size 640x480 with 2 Axes>"
      ]
     },
     "metadata": {},
     "output_type": "display_data"
    }
   ],
   "source": [
    "fig, ax1 = plt.subplots()\n",
    "\n",
    "ax2 = ax1.twinx()\n",
    "ax1.bar(products, most_sale['Quantity Ordered'], color = 'g')\n",
    "ax2.plot(products, prod_price['Price Each'], color = 'b')\n",
    "\n",
    "ax1.set_xlabel('Product Name')\n",
    "ax1.set_ylabel('Quantity Ordered', color = 'g')\n",
    "ax2.set_ylabel('Individual Price ($)', color = 'b')\n",
    "\n",
    "ax1.set_xticks(products)\n",
    "ax1.set_xticklabels(products, rotation = 'vertical', size = 8)\n",
    "\n",
    "plt.show()"
   ]
  },
  {
   "cell_type": "markdown",
   "id": "0de3c383-3545-4ed4-bd4b-03adf9c0979b",
   "metadata": {},
   "source": [
    "### Conclusão\n",
    "Com a análise dos dados, podemos propor mudanças que podem resultar em maior quantidade de vendas e, assim, maior lucro para a empresa.\n",
    "- Podemos criar um progrma de descontos para os meses de janeiro, fevereiro, agosto e setembro, visndo atrair mais clientes e elevar o numero de vendas nestes meses;\n",
    "- Podemos propor campanhas publicitárias nos horários entre 10h e 11h da manhã, e entre 17h e 18h da tarde, visando atrair ainda mais consumidores nos horários com maior número de vendas (12h e 19h);\n",
    "- Podemos rearranjar os produtos para que aqueles que são comumente vendidos juntos estejam próximos uns dos outros, atraindo a atenção dos consumidores. Ainda, podemos criar promoções e pacotes com estes produtos."
   ]
  }
 ],
 "metadata": {
  "kernelspec": {
   "display_name": "Python 3 (ipykernel)",
   "language": "python",
   "name": "python3"
  },
  "language_info": {
   "codemirror_mode": {
    "name": "ipython",
    "version": 3
   },
   "file_extension": ".py",
   "mimetype": "text/x-python",
   "name": "python",
   "nbconvert_exporter": "python",
   "pygments_lexer": "ipython3",
   "version": "3.8.8"
  }
 },
 "nbformat": 4,
 "nbformat_minor": 5
}
